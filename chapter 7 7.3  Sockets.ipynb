{
 "cells": [
  {
   "cell_type": "code",
   "execution_count": 6,
   "metadata": {},
   "outputs": [
    {
     "name": "stdout",
     "output_type": "stream",
     "text": [
      "😀\n"
     ]
    },
    {
     "data": {
      "text/plain": [
       "{'cod': 401,\n",
       " 'message': 'Invalid API key. Please see https://openweathermap.org/faq#error401 for more info.'}"
      ]
     },
     "execution_count": 6,
     "metadata": {},
     "output_type": "execute_result"
    }
   ],
   "source": [
    "import requests,json\n",
    "\n",
    "api_key=\"\"\n",
    "request_url=f\"https://pro.openweathermap.org/data/2.5/forecast/hourly?lat=56.43&lon=67.89&appid={api_key}\"\n",
    "response=requests.get(request_url)\n",
    "print(\"😀\")\n",
    "data=response.json()\n",
    "data"
   ]
  },
  {
   "cell_type": "markdown",
   "metadata": {},
   "source": [
    "# Socket"
   ]
  },
  {
   "cell_type": "markdown",
   "metadata": {},
   "source": [
    "🌼🌸🌼🌸🌼🌸🌼🌸🌼🌸🌼🌸🌼🌸🌼🌸🌼🌸🌼🌸🌼🌸🌼🌸🌼🌸🌼🌸🌼🌸🌼🌸🌼🌸🌼🌸🌼🌸🌼🌸🌼🌸🌼🌸🌼🌸🌼🌸🌼🌸"
   ]
  },
  {
   "cell_type": "code",
   "execution_count": 12,
   "metadata": {},
   "outputs": [
    {
     "name": "stdout",
     "output_type": "stream",
     "text": [
      "Writing demo.py\n"
     ]
    }
   ],
   "source": [
    "%%writefile demo.py\n",
    "\n",
    "print('hello')"
   ]
  },
  {
   "cell_type": "code",
   "execution_count": 16,
   "metadata": {},
   "outputs": [],
   "source": [
    "# run in 2 different terminal windows"
   ]
  },
  {
   "cell_type": "code",
   "execution_count": 13,
   "metadata": {},
   "outputs": [
    {
     "name": "stdout",
     "output_type": "stream",
     "text": [
      "Writing server_TCP.py\n"
     ]
    }
   ],
   "source": [
    "%%writefile server_TCP.py\n",
    "\n",
    "import socket\n",
    "host = socket.gethostname()\n",
    "port = 5000\n",
    "addr = (host,port)\n",
    "server_socket = socket.socket()\n",
    "server_socket.bind(addr)\n",
    "server_socket.listen()\n",
    "conn,addr = server_socket.accept()\n",
    "print(\"connection from \",str(addr))\n",
    "while True:\n",
    "    data = conn.recv(1024).decode()\n",
    "    if not data:\n",
    "        break\n",
    "    else:\n",
    "        print(data)\n",
    "    data=input(\" -> \")\n",
    "    conn.send(data.encode())\n",
    "conn.clear()"
   ]
  },
  {
   "cell_type": "code",
   "execution_count": 14,
   "metadata": {},
   "outputs": [
    {
     "name": "stdout",
     "output_type": "stream",
     "text": [
      "Writing client_TCP.py\n"
     ]
    }
   ],
   "source": [
    "%%writefile client_TCP.py\n",
    "\n",
    "import socket\n",
    "host = socket.gethostname()\n",
    "port = 5000\n",
    "client_socket = socket.socket() # type = socket.SOCK_STREAM\n",
    "client_socket.connect((host,port))\n",
    "msg = input(\" -> \")\n",
    "while msg != \"\":\n",
    "    client_socket.send(msg.encode())\n",
    "    data = client_socket.recv(1024).decode()\n",
    "    print(\"Received from server -> \",data)\n",
    "    msg = input(\" -> \")\n",
    "client_socket.close()"
   ]
  },
  {
   "cell_type": "code",
   "execution_count": 17,
   "metadata": {},
   "outputs": [
    {
     "name": "stdout",
     "output_type": "stream",
     "text": [
      "Writing server_UDP.py\n"
     ]
    }
   ],
   "source": [
    "%%writefile server_UDP.py\n",
    "\n",
    "import socket\n",
    "host = \"\"\n",
    "port = 5000\n",
    "udp_server = socket.socket(type = socket.SOCK_DGRAM)\n",
    "udp_server.bind((host,port))\n",
    "while True:\n",
    "    print('Waiting for message')\n",
    "    data,addr = udp_server.recvfrom(1024)\n",
    "    print('received ',data.decode())\n",
    "    msg = input(\"enter msg: \")\n",
    "    udp_server.sendto(msg.encode())\n",
    "udp_server.close()"
   ]
  },
  {
   "cell_type": "code",
   "execution_count": null,
   "metadata": {},
   "outputs": [],
   "source": []
  }
 ],
 "metadata": {
  "kernelspec": {
   "display_name": "Python 3",
   "language": "python",
   "name": "python3"
  },
  "language_info": {
   "codemirror_mode": {
    "name": "ipython",
    "version": 3
   },
   "file_extension": ".py",
   "mimetype": "text/x-python",
   "name": "python",
   "nbconvert_exporter": "python",
   "pygments_lexer": "ipython3",
   "version": "3.8.5"
  }
 },
 "nbformat": 4,
 "nbformat_minor": 4
}
