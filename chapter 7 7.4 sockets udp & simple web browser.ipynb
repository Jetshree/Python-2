{
 "cells": [
  {
   "cell_type": "code",
   "execution_count": 3,
   "metadata": {},
   "outputs": [
    {
     "name": "stdout",
     "output_type": "stream",
     "text": [
      "Overwriting server_UDP.py\n"
     ]
    }
   ],
   "source": [
    "%%writefile server_UDP.py\n",
    "\n",
    "import socket\n",
    "host = socket.gethostname()\n",
    "port = 5000\n",
    "udp_server = socket.socket(type = socket.SOCK_DGRAM)\n",
    "udp_server.bind((host,port))\n",
    "while True:\n",
    "    print('Waiting for message')\n",
    "    data,addr = udp_server.recvfrom(1024)\n",
    "    print('received ',data.decode())\n",
    "    msg = input(\"enter msg: \")\n",
    "    udp_server.sendto(msg.encode(),addr)\n",
    "udp_server.close()"
   ]
  },
  {
   "cell_type": "code",
   "execution_count": 4,
   "metadata": {},
   "outputs": [
    {
     "name": "stdout",
     "output_type": "stream",
     "text": [
      "Overwriting client_udp.py\n"
     ]
    }
   ],
   "source": [
    "%%writefile client_udp.py\n",
    "\n",
    "import socket\n",
    "host = socket.gethostname()\n",
    "port = 5000\n",
    "udp_client = socket.socket(type = socket.SOCK_DGRAM)\n",
    "while True:\n",
    "    data = input(\"enter data to send: \")\n",
    "    if not data:\n",
    "        break\n",
    "    udp_client.sendto(data.encode(),(host,port))\n",
    "    print(\"ready to receive data\")\n",
    "    data,addr = udp_client.recvfrom(1024)\n",
    "    if not data:\n",
    "        break\n",
    "    print(\"received : \",data.decode())\n",
    "udp_client.close()"
   ]
  },
  {
   "cell_type": "markdown",
   "metadata": {},
   "source": [
    "## Simple web browser in python"
   ]
  },
  {
   "cell_type": "code",
   "execution_count": 5,
   "metadata": {},
   "outputs": [
    {
     "ename": "gaierror",
     "evalue": "[Errno 11001] getaddrinfo failed",
     "output_type": "error",
     "traceback": [
      "\u001b[1;31m---------------------------------------------------------------------------\u001b[0m",
      "\u001b[1;31mgaierror\u001b[0m                                  Traceback (most recent call last)",
      "\u001b[1;32m<ipython-input-5-e68e8a9aea38>\u001b[0m in \u001b[0;36m<module>\u001b[1;34m\u001b[0m\n\u001b[0;32m      1\u001b[0m \u001b[1;32mimport\u001b[0m \u001b[0msocket\u001b[0m\u001b[1;33m\u001b[0m\u001b[1;33m\u001b[0m\u001b[0m\n\u001b[0;32m      2\u001b[0m \u001b[0mmysocket\u001b[0m \u001b[1;33m=\u001b[0m \u001b[0msocket\u001b[0m\u001b[1;33m.\u001b[0m\u001b[0msocket\u001b[0m\u001b[1;33m(\u001b[0m\u001b[1;33m)\u001b[0m\u001b[1;33m\u001b[0m\u001b[1;33m\u001b[0m\u001b[0m\n\u001b[1;32m----> 3\u001b[1;33m \u001b[0mmysocket\u001b[0m\u001b[1;33m.\u001b[0m\u001b[0mconnect\u001b[0m\u001b[1;33m(\u001b[0m\u001b[1;33m(\u001b[0m\u001b[1;34m'data.pr4e.org'\u001b[0m\u001b[1;33m,\u001b[0m\u001b[1;36m80\u001b[0m\u001b[1;33m)\u001b[0m\u001b[1;33m)\u001b[0m\u001b[1;33m\u001b[0m\u001b[1;33m\u001b[0m\u001b[0m\n\u001b[0m\u001b[0;32m      4\u001b[0m \u001b[0mcmd\u001b[0m \u001b[1;33m=\u001b[0m \u001b[1;34m'GET http://data.pr4e.org/romeo.txt HTTP/1.0\\r\\n\\r\\n'\u001b[0m\u001b[1;33m.\u001b[0m\u001b[0mencode\u001b[0m\u001b[1;33m(\u001b[0m\u001b[1;33m)\u001b[0m\u001b[1;33m\u001b[0m\u001b[1;33m\u001b[0m\u001b[0m\n\u001b[0;32m      5\u001b[0m \u001b[0mmysocket\u001b[0m\u001b[1;33m.\u001b[0m\u001b[0msend\u001b[0m\u001b[1;33m(\u001b[0m\u001b[0mcmd\u001b[0m\u001b[1;33m)\u001b[0m\u001b[1;33m\u001b[0m\u001b[1;33m\u001b[0m\u001b[0m\n",
      "\u001b[1;31mgaierror\u001b[0m: [Errno 11001] getaddrinfo failed"
     ]
    }
   ],
   "source": [
    "import socket\n",
    "mysocket = socket.socket()\n",
    "mysocket.connect(('data.pr4e.org',80))\n",
    "cmd = 'GET http://data.pr4e.org/romeo.txt HTTP/1.0\\r\\n\\r\\n'.encode()\n",
    "mysocket.send(cmd)\n",
    "while True: \n",
    "    data = mysocket.recv(512)\n",
    "    if len(data)<1:\n",
    "        break\n",
    "    print(data.decode(),end=\"\")\n",
    "mysocket.close()\n",
    "\n",
    "# error due to absence of internet"
   ]
  },
  {
   "cell_type": "markdown",
   "metadata": {},
   "source": [
    "## Simple HTTP server in python"
   ]
  },
  {
   "cell_type": "code",
   "execution_count": null,
   "metadata": {},
   "outputs": [
    {
     "name": "stdout",
     "output_type": "stream",
     "text": [
      "Access http://localhost:8000\n",
      "GET / HTTP/1.1\n",
      "Host: localhost:8000\n",
      "Connection: keep-alive\n",
      "sec-ch-ua: \"Chromium\";v=\"136\", \"Google Chrome\";v=\"136\", \"Not.A/Brand\";v=\"99\"\n",
      "sec-ch-ua-mobile: ?0\n",
      "sec-ch-ua-platform: \"Windows\"\n",
      "Upgrade-Insecure-Requests: 1\n",
      "User-Agent: Mozilla/5.0 (Windows NT 10.0; Win64; x64) AppleWebKit/537.36 (KHTML, like Gecko) Chrome/136.0.0.0 Safari/537.36\n",
      "Accept: text/html,application/xhtml+xml,application/xml;q=0.9,image/avif,image/webp,image/apng,*/*;q=0.8,application/signed-exchange;v=b3;q=0.7\n",
      "Sec-Fetch-Site: sam\n",
      "\n",
      "\n"
     ]
    }
   ],
   "source": [
    "from socket import *\n",
    "\n",
    "def createServer():\n",
    "    serversocket = socket()\n",
    "    serversocket.bind(('localhost',8000))\n",
    "    serversocket.listen()\n",
    "    while True:\n",
    "        (clientsocket,address) = serversocket.accept()\n",
    "        rd = clientsocket.recv(512).decode()\n",
    "        print(rd)\n",
    "        data = 'HTTP/1.0 200 ok\\r\\n'\n",
    "        data += 'Content-type: text/html;charset=utf-8\\r\\n'\n",
    "        data += '\\r\\n'\n",
    "        data += '<html> <body>Hello world</body></html>\\r\\n\\r\\n'\n",
    "        clientsocket.send(data.encode())\n",
    "    serversocket.close()\n",
    "print('Access http://localhost:8000')\n",
    "createServer()"
   ]
  },
  {
   "cell_type": "code",
   "execution_count": null,
   "metadata": {},
   "outputs": [],
   "source": []
  }
 ],
 "metadata": {
  "kernelspec": {
   "display_name": "Python 3",
   "language": "python",
   "name": "python3"
  },
  "language_info": {
   "codemirror_mode": {
    "name": "ipython",
    "version": 3
   },
   "file_extension": ".py",
   "mimetype": "text/x-python",
   "name": "python",
   "nbconvert_exporter": "python",
   "pygments_lexer": "ipython3",
   "version": "3.8.5"
  }
 },
 "nbformat": 4,
 "nbformat_minor": 4
}
