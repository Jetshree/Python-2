{
 "cells": [
  {
   "cell_type": "code",
   "execution_count": 1,
   "metadata": {},
   "outputs": [
    {
     "data": {
      "text/html": [
       "<div>\n",
       "<style scoped>\n",
       "    .dataframe tbody tr th:only-of-type {\n",
       "        vertical-align: middle;\n",
       "    }\n",
       "\n",
       "    .dataframe tbody tr th {\n",
       "        vertical-align: top;\n",
       "    }\n",
       "\n",
       "    .dataframe thead th {\n",
       "        text-align: right;\n",
       "    }\n",
       "</style>\n",
       "<table border=\"1\" class=\"dataframe\">\n",
       "  <thead>\n",
       "    <tr style=\"text-align: right;\">\n",
       "      <th></th>\n",
       "      <th>Unnamed: 0</th>\n",
       "      <th>TV</th>\n",
       "      <th>Radio</th>\n",
       "      <th>Newspaper</th>\n",
       "      <th>Sales</th>\n",
       "    </tr>\n",
       "  </thead>\n",
       "  <tbody>\n",
       "    <tr>\n",
       "      <th>0</th>\n",
       "      <td>1</td>\n",
       "      <td>230.1</td>\n",
       "      <td>37.8</td>\n",
       "      <td>69.2</td>\n",
       "      <td>22.1</td>\n",
       "    </tr>\n",
       "    <tr>\n",
       "      <th>1</th>\n",
       "      <td>2</td>\n",
       "      <td>44.5</td>\n",
       "      <td>39.3</td>\n",
       "      <td>45.1</td>\n",
       "      <td>10.4</td>\n",
       "    </tr>\n",
       "    <tr>\n",
       "      <th>2</th>\n",
       "      <td>3</td>\n",
       "      <td>17.2</td>\n",
       "      <td>45.9</td>\n",
       "      <td>69.3</td>\n",
       "      <td>9.3</td>\n",
       "    </tr>\n",
       "    <tr>\n",
       "      <th>3</th>\n",
       "      <td>4</td>\n",
       "      <td>151.5</td>\n",
       "      <td>41.3</td>\n",
       "      <td>58.5</td>\n",
       "      <td>18.5</td>\n",
       "    </tr>\n",
       "    <tr>\n",
       "      <th>4</th>\n",
       "      <td>5</td>\n",
       "      <td>180.8</td>\n",
       "      <td>10.8</td>\n",
       "      <td>58.4</td>\n",
       "      <td>12.9</td>\n",
       "    </tr>\n",
       "    <tr>\n",
       "      <th>...</th>\n",
       "      <td>...</td>\n",
       "      <td>...</td>\n",
       "      <td>...</td>\n",
       "      <td>...</td>\n",
       "      <td>...</td>\n",
       "    </tr>\n",
       "    <tr>\n",
       "      <th>195</th>\n",
       "      <td>196</td>\n",
       "      <td>38.2</td>\n",
       "      <td>3.7</td>\n",
       "      <td>13.8</td>\n",
       "      <td>7.6</td>\n",
       "    </tr>\n",
       "    <tr>\n",
       "      <th>196</th>\n",
       "      <td>197</td>\n",
       "      <td>94.2</td>\n",
       "      <td>4.9</td>\n",
       "      <td>8.1</td>\n",
       "      <td>9.7</td>\n",
       "    </tr>\n",
       "    <tr>\n",
       "      <th>197</th>\n",
       "      <td>198</td>\n",
       "      <td>177.0</td>\n",
       "      <td>9.3</td>\n",
       "      <td>6.4</td>\n",
       "      <td>12.8</td>\n",
       "    </tr>\n",
       "    <tr>\n",
       "      <th>198</th>\n",
       "      <td>199</td>\n",
       "      <td>283.6</td>\n",
       "      <td>42.0</td>\n",
       "      <td>66.2</td>\n",
       "      <td>25.5</td>\n",
       "    </tr>\n",
       "    <tr>\n",
       "      <th>199</th>\n",
       "      <td>200</td>\n",
       "      <td>232.1</td>\n",
       "      <td>8.6</td>\n",
       "      <td>8.7</td>\n",
       "      <td>13.4</td>\n",
       "    </tr>\n",
       "  </tbody>\n",
       "</table>\n",
       "<p>200 rows × 5 columns</p>\n",
       "</div>"
      ],
      "text/plain": [
       "     Unnamed: 0     TV  Radio  Newspaper  Sales\n",
       "0             1  230.1   37.8       69.2   22.1\n",
       "1             2   44.5   39.3       45.1   10.4\n",
       "2             3   17.2   45.9       69.3    9.3\n",
       "3             4  151.5   41.3       58.5   18.5\n",
       "4             5  180.8   10.8       58.4   12.9\n",
       "..          ...    ...    ...        ...    ...\n",
       "195         196   38.2    3.7       13.8    7.6\n",
       "196         197   94.2    4.9        8.1    9.7\n",
       "197         198  177.0    9.3        6.4   12.8\n",
       "198         199  283.6   42.0       66.2   25.5\n",
       "199         200  232.1    8.6        8.7   13.4\n",
       "\n",
       "[200 rows x 5 columns]"
      ]
     },
     "execution_count": 1,
     "metadata": {},
     "output_type": "execute_result"
    }
   ],
   "source": [
    "import pandas as pd\n",
    "df=pd.read_csv('Advertising.csv')\n",
    "df"
   ]
  },
  {
   "cell_type": "code",
   "execution_count": 9,
   "metadata": {},
   "outputs": [
    {
     "data": {
      "text/html": [
       "<div>\n",
       "<style scoped>\n",
       "    .dataframe tbody tr th:only-of-type {\n",
       "        vertical-align: middle;\n",
       "    }\n",
       "\n",
       "    .dataframe tbody tr th {\n",
       "        vertical-align: top;\n",
       "    }\n",
       "\n",
       "    .dataframe thead th {\n",
       "        text-align: right;\n",
       "    }\n",
       "</style>\n",
       "<table border=\"1\" class=\"dataframe\">\n",
       "  <thead>\n",
       "    <tr style=\"text-align: right;\">\n",
       "      <th></th>\n",
       "      <th>Unnamed: 0</th>\n",
       "      <th>TV</th>\n",
       "      <th>Radio</th>\n",
       "      <th>Newspaper</th>\n",
       "      <th>Sales</th>\n",
       "    </tr>\n",
       "  </thead>\n",
       "  <tbody>\n",
       "    <tr>\n",
       "      <th>0</th>\n",
       "      <td>1</td>\n",
       "      <td>230.1</td>\n",
       "      <td>37.8</td>\n",
       "      <td>69.2</td>\n",
       "      <td>22.1</td>\n",
       "    </tr>\n",
       "    <tr>\n",
       "      <th>1</th>\n",
       "      <td>2</td>\n",
       "      <td>44.5</td>\n",
       "      <td>39.3</td>\n",
       "      <td>45.1</td>\n",
       "      <td>10.4</td>\n",
       "    </tr>\n",
       "    <tr>\n",
       "      <th>2</th>\n",
       "      <td>3</td>\n",
       "      <td>17.2</td>\n",
       "      <td>45.9</td>\n",
       "      <td>69.3</td>\n",
       "      <td>9.3</td>\n",
       "    </tr>\n",
       "    <tr>\n",
       "      <th>3</th>\n",
       "      <td>4</td>\n",
       "      <td>151.5</td>\n",
       "      <td>41.3</td>\n",
       "      <td>58.5</td>\n",
       "      <td>18.5</td>\n",
       "    </tr>\n",
       "    <tr>\n",
       "      <th>4</th>\n",
       "      <td>5</td>\n",
       "      <td>180.8</td>\n",
       "      <td>10.8</td>\n",
       "      <td>58.4</td>\n",
       "      <td>12.9</td>\n",
       "    </tr>\n",
       "    <tr>\n",
       "      <th>...</th>\n",
       "      <td>...</td>\n",
       "      <td>...</td>\n",
       "      <td>...</td>\n",
       "      <td>...</td>\n",
       "      <td>...</td>\n",
       "    </tr>\n",
       "    <tr>\n",
       "      <th>195</th>\n",
       "      <td>196</td>\n",
       "      <td>38.2</td>\n",
       "      <td>3.7</td>\n",
       "      <td>13.8</td>\n",
       "      <td>7.6</td>\n",
       "    </tr>\n",
       "    <tr>\n",
       "      <th>196</th>\n",
       "      <td>197</td>\n",
       "      <td>94.2</td>\n",
       "      <td>4.9</td>\n",
       "      <td>8.1</td>\n",
       "      <td>9.7</td>\n",
       "    </tr>\n",
       "    <tr>\n",
       "      <th>197</th>\n",
       "      <td>198</td>\n",
       "      <td>177.0</td>\n",
       "      <td>9.3</td>\n",
       "      <td>6.4</td>\n",
       "      <td>12.8</td>\n",
       "    </tr>\n",
       "    <tr>\n",
       "      <th>198</th>\n",
       "      <td>199</td>\n",
       "      <td>283.6</td>\n",
       "      <td>42.0</td>\n",
       "      <td>66.2</td>\n",
       "      <td>25.5</td>\n",
       "    </tr>\n",
       "    <tr>\n",
       "      <th>199</th>\n",
       "      <td>200</td>\n",
       "      <td>232.1</td>\n",
       "      <td>8.6</td>\n",
       "      <td>8.7</td>\n",
       "      <td>13.4</td>\n",
       "    </tr>\n",
       "  </tbody>\n",
       "</table>\n",
       "<p>200 rows × 5 columns</p>\n",
       "</div>"
      ],
      "text/plain": [
       "     Unnamed: 0     TV  Radio  Newspaper  Sales\n",
       "0             1  230.1   37.8       69.2   22.1\n",
       "1             2   44.5   39.3       45.1   10.4\n",
       "2             3   17.2   45.9       69.3    9.3\n",
       "3             4  151.5   41.3       58.5   18.5\n",
       "4             5  180.8   10.8       58.4   12.9\n",
       "..          ...    ...    ...        ...    ...\n",
       "195         196   38.2    3.7       13.8    7.6\n",
       "196         197   94.2    4.9        8.1    9.7\n",
       "197         198  177.0    9.3        6.4   12.8\n",
       "198         199  283.6   42.0       66.2   25.5\n",
       "199         200  232.1    8.6        8.7   13.4\n",
       "\n",
       "[200 rows x 5 columns]"
      ]
     },
     "execution_count": 9,
     "metadata": {},
     "output_type": "execute_result"
    }
   ],
   "source": [
    "# one hot encoding\n",
    "df=pd.get_dummies(df,drop_first=True)\n",
    "df"
   ]
  },
  {
   "cell_type": "markdown",
   "metadata": {},
   "source": [
    "## Training Testing"
   ]
  },
  {
   "cell_type": "code",
   "execution_count": 10,
   "metadata": {},
   "outputs": [
    {
     "data": {
      "text/plain": [
       "Index(['TV', 'Radio', 'Newspaper'], dtype='object')"
      ]
     },
     "execution_count": 10,
     "metadata": {},
     "output_type": "execute_result"
    }
   ],
   "source": [
    "x=df.drop(['Unnamed: 0','Sales'],axis=1)\n",
    "x.columns"
   ]
  },
  {
   "cell_type": "code",
   "execution_count": 11,
   "metadata": {},
   "outputs": [
    {
     "name": "stdout",
     "output_type": "stream",
     "text": [
      "(200, 3)\n",
      "(200,)\n"
     ]
    }
   ],
   "source": [
    "y=df['Sales']\n",
    "print(x.shape)\n",
    "print(y.shape)"
   ]
  },
  {
   "cell_type": "code",
   "execution_count": 12,
   "metadata": {},
   "outputs": [
    {
     "name": "stdout",
     "output_type": "stream",
     "text": [
      "(40, 3)\n",
      "(160, 3)\n",
      "(40,)\n",
      "(160,)\n"
     ]
    }
   ],
   "source": [
    "from sklearn.model_selection import train_test_split\n",
    "\n",
    "X_train, X_test, y_train, y_test = train_test_split(x, y, test_size=0.2,random_state=13)\n",
    "\n",
    "print(X_test.shape)\n",
    "print(X_train.shape)\n",
    "print(y_test.shape)\n",
    "print(y_train.shape)"
   ]
  },
  {
   "cell_type": "code",
   "execution_count": 13,
   "metadata": {},
   "outputs": [
    {
     "name": "stdout",
     "output_type": "stream",
     "text": [
      "[12.41367767  5.32067348 16.55144938 12.36717245 12.71077284 23.63881378\n",
      " 21.62206727 14.74035857 22.19982768 15.32872133 16.21757736  6.10442096\n",
      "  7.88988888 18.91129331 17.68863982 16.7673735   8.42129698  9.69259232\n",
      " 20.29047962 17.71616686 12.01762517  7.84345791 21.58818774 12.12397718\n",
      " 17.11548063 19.33168908 10.05575241 14.1727504  23.07525292  8.76424307\n",
      " 15.4412187  18.25749861 17.77840777  7.04391172 16.88038275  8.86721612\n",
      " 10.0519968  20.67873857  5.40059981 10.49904798]\n"
     ]
    }
   ],
   "source": [
    "from sklearn.linear_model import LinearRegression\n",
    "model=LinearRegression()\n",
    "model.fit(X_train,y_train)\n",
    "y_pred=model.predict(X_test)\n",
    "print(y_pred)"
   ]
  },
  {
   "cell_type": "code",
   "execution_count": 19,
   "metadata": {},
   "outputs": [],
   "source": [
    "from sklearn.preprocessing import StandardScaler\n",
    "\n",
    "scaler=StandardScaler()\n",
    "x_train_scaled=scaler.fit_transform(X_train)\n",
    "x_test_scaled=scaler.transform(X_test)"
   ]
  },
  {
   "cell_type": "code",
   "execution_count": 20,
   "metadata": {},
   "outputs": [
    {
     "name": "stdout",
     "output_type": "stream",
     "text": [
      "[12.41367767  5.32067348 16.55144938 12.36717245 12.71077284 23.63881378\n",
      " 21.62206727 14.74035857 22.19982768 15.32872133 16.21757736  6.10442096\n",
      "  7.88988888 18.91129331 17.68863982 16.7673735   8.42129698  9.69259232\n",
      " 20.29047962 17.71616686 12.01762517  7.84345791 21.58818774 12.12397718\n",
      " 17.11548063 19.33168908 10.05575241 14.1727504  23.07525292  8.76424307\n",
      " 15.4412187  18.25749861 17.77840777  7.04391172 16.88038275  8.86721612\n",
      " 10.0519968  20.67873857  5.40059981 10.49904798]\n"
     ]
    }
   ],
   "source": [
    "from sklearn.linear_model import LinearRegression\n",
    "\n",
    "model.fit(x_train_scaled,y_train)\n",
    "y_pred=model.predict(x_test_scaled)\n",
    "print(y_pred)"
   ]
  },
  {
   "cell_type": "code",
   "execution_count": 21,
   "metadata": {},
   "outputs": [
    {
     "name": "stdout",
     "output_type": "stream",
     "text": [
      "coefficient:  [ 3.93989334  2.75338819 -0.05578497]\n",
      "intercept:  13.896875\n"
     ]
    }
   ],
   "source": [
    "print(\"coefficient: \",model.coef_)\n",
    "print(\"intercept: \",model.intercept_)"
   ]
  },
  {
   "cell_type": "code",
   "execution_count": 22,
   "metadata": {},
   "outputs": [
    {
     "name": "stdout",
     "output_type": "stream",
     "text": [
      "MAE:  1.180093122716239\n",
      "MSE:  2.0881207094289946\n",
      "R2 score:  0.9308589334107374\n"
     ]
    }
   ],
   "source": [
    "from sklearn import metrics\n",
    "print(\"MAE: \",metrics.mean_absolute_error(y_test,y_pred))\n",
    "print(\"MSE: \",metrics.mean_squared_error(y_test,y_pred))\n",
    "print(\"R2 score: \",metrics.r2_score(y_test,y_pred))"
   ]
  },
  {
   "cell_type": "markdown",
   "metadata": {},
   "source": [
    "# -----------------------------------------------------"
   ]
  },
  {
   "cell_type": "code",
   "execution_count": 24,
   "metadata": {},
   "outputs": [
    {
     "data": {
      "text/html": [
       "<div>\n",
       "<style scoped>\n",
       "    .dataframe tbody tr th:only-of-type {\n",
       "        vertical-align: middle;\n",
       "    }\n",
       "\n",
       "    .dataframe tbody tr th {\n",
       "        vertical-align: top;\n",
       "    }\n",
       "\n",
       "    .dataframe thead th {\n",
       "        text-align: right;\n",
       "    }\n",
       "</style>\n",
       "<table border=\"1\" class=\"dataframe\">\n",
       "  <thead>\n",
       "    <tr style=\"text-align: right;\">\n",
       "      <th></th>\n",
       "      <th>age</th>\n",
       "      <th>sex</th>\n",
       "      <th>bmi</th>\n",
       "      <th>children</th>\n",
       "      <th>smoker</th>\n",
       "      <th>region</th>\n",
       "      <th>expenses</th>\n",
       "    </tr>\n",
       "  </thead>\n",
       "  <tbody>\n",
       "    <tr>\n",
       "      <th>0</th>\n",
       "      <td>19</td>\n",
       "      <td>female</td>\n",
       "      <td>27.9</td>\n",
       "      <td>0</td>\n",
       "      <td>yes</td>\n",
       "      <td>southwest</td>\n",
       "      <td>16884.92</td>\n",
       "    </tr>\n",
       "    <tr>\n",
       "      <th>1</th>\n",
       "      <td>18</td>\n",
       "      <td>male</td>\n",
       "      <td>33.8</td>\n",
       "      <td>1</td>\n",
       "      <td>no</td>\n",
       "      <td>southeast</td>\n",
       "      <td>1725.55</td>\n",
       "    </tr>\n",
       "    <tr>\n",
       "      <th>2</th>\n",
       "      <td>28</td>\n",
       "      <td>male</td>\n",
       "      <td>33.0</td>\n",
       "      <td>3</td>\n",
       "      <td>no</td>\n",
       "      <td>southeast</td>\n",
       "      <td>4449.46</td>\n",
       "    </tr>\n",
       "    <tr>\n",
       "      <th>3</th>\n",
       "      <td>33</td>\n",
       "      <td>male</td>\n",
       "      <td>22.7</td>\n",
       "      <td>0</td>\n",
       "      <td>no</td>\n",
       "      <td>northwest</td>\n",
       "      <td>21984.47</td>\n",
       "    </tr>\n",
       "    <tr>\n",
       "      <th>4</th>\n",
       "      <td>32</td>\n",
       "      <td>male</td>\n",
       "      <td>28.9</td>\n",
       "      <td>0</td>\n",
       "      <td>no</td>\n",
       "      <td>northwest</td>\n",
       "      <td>3866.86</td>\n",
       "    </tr>\n",
       "    <tr>\n",
       "      <th>...</th>\n",
       "      <td>...</td>\n",
       "      <td>...</td>\n",
       "      <td>...</td>\n",
       "      <td>...</td>\n",
       "      <td>...</td>\n",
       "      <td>...</td>\n",
       "      <td>...</td>\n",
       "    </tr>\n",
       "    <tr>\n",
       "      <th>1333</th>\n",
       "      <td>50</td>\n",
       "      <td>male</td>\n",
       "      <td>31.0</td>\n",
       "      <td>3</td>\n",
       "      <td>no</td>\n",
       "      <td>northwest</td>\n",
       "      <td>10600.55</td>\n",
       "    </tr>\n",
       "    <tr>\n",
       "      <th>1334</th>\n",
       "      <td>18</td>\n",
       "      <td>female</td>\n",
       "      <td>31.9</td>\n",
       "      <td>0</td>\n",
       "      <td>no</td>\n",
       "      <td>northeast</td>\n",
       "      <td>2205.98</td>\n",
       "    </tr>\n",
       "    <tr>\n",
       "      <th>1335</th>\n",
       "      <td>18</td>\n",
       "      <td>female</td>\n",
       "      <td>36.9</td>\n",
       "      <td>0</td>\n",
       "      <td>no</td>\n",
       "      <td>southeast</td>\n",
       "      <td>1629.83</td>\n",
       "    </tr>\n",
       "    <tr>\n",
       "      <th>1336</th>\n",
       "      <td>21</td>\n",
       "      <td>female</td>\n",
       "      <td>25.8</td>\n",
       "      <td>0</td>\n",
       "      <td>no</td>\n",
       "      <td>southwest</td>\n",
       "      <td>2007.95</td>\n",
       "    </tr>\n",
       "    <tr>\n",
       "      <th>1337</th>\n",
       "      <td>61</td>\n",
       "      <td>female</td>\n",
       "      <td>29.1</td>\n",
       "      <td>0</td>\n",
       "      <td>yes</td>\n",
       "      <td>northwest</td>\n",
       "      <td>29141.36</td>\n",
       "    </tr>\n",
       "  </tbody>\n",
       "</table>\n",
       "<p>1338 rows × 7 columns</p>\n",
       "</div>"
      ],
      "text/plain": [
       "      age     sex   bmi  children smoker     region  expenses\n",
       "0      19  female  27.9         0    yes  southwest  16884.92\n",
       "1      18    male  33.8         1     no  southeast   1725.55\n",
       "2      28    male  33.0         3     no  southeast   4449.46\n",
       "3      33    male  22.7         0     no  northwest  21984.47\n",
       "4      32    male  28.9         0     no  northwest   3866.86\n",
       "...   ...     ...   ...       ...    ...        ...       ...\n",
       "1333   50    male  31.0         3     no  northwest  10600.55\n",
       "1334   18  female  31.9         0     no  northeast   2205.98\n",
       "1335   18  female  36.9         0     no  southeast   1629.83\n",
       "1336   21  female  25.8         0     no  southwest   2007.95\n",
       "1337   61  female  29.1         0    yes  northwest  29141.36\n",
       "\n",
       "[1338 rows x 7 columns]"
      ]
     },
     "execution_count": 24,
     "metadata": {},
     "output_type": "execute_result"
    }
   ],
   "source": [
    "import pandas as pd\n",
    "\n",
    "df=pd.read_csv(\"insurance.csv\")\n",
    "df"
   ]
  },
  {
   "cell_type": "code",
   "execution_count": 25,
   "metadata": {},
   "outputs": [
    {
     "name": "stdout",
     "output_type": "stream",
     "text": [
      "<class 'pandas.core.frame.DataFrame'>\n",
      "RangeIndex: 1338 entries, 0 to 1337\n",
      "Data columns (total 7 columns):\n",
      " #   Column    Non-Null Count  Dtype  \n",
      "---  ------    --------------  -----  \n",
      " 0   age       1338 non-null   int64  \n",
      " 1   sex       1338 non-null   object \n",
      " 2   bmi       1338 non-null   float64\n",
      " 3   children  1338 non-null   int64  \n",
      " 4   smoker    1338 non-null   object \n",
      " 5   region    1338 non-null   object \n",
      " 6   expenses  1338 non-null   float64\n",
      "dtypes: float64(2), int64(2), object(3)\n",
      "memory usage: 73.3+ KB\n"
     ]
    }
   ],
   "source": [
    "df.info()"
   ]
  },
  {
   "cell_type": "code",
   "execution_count": 26,
   "metadata": {},
   "outputs": [
    {
     "data": {
      "text/html": [
       "<div>\n",
       "<style scoped>\n",
       "    .dataframe tbody tr th:only-of-type {\n",
       "        vertical-align: middle;\n",
       "    }\n",
       "\n",
       "    .dataframe tbody tr th {\n",
       "        vertical-align: top;\n",
       "    }\n",
       "\n",
       "    .dataframe thead th {\n",
       "        text-align: right;\n",
       "    }\n",
       "</style>\n",
       "<table border=\"1\" class=\"dataframe\">\n",
       "  <thead>\n",
       "    <tr style=\"text-align: right;\">\n",
       "      <th></th>\n",
       "      <th>age</th>\n",
       "      <th>bmi</th>\n",
       "      <th>children</th>\n",
       "      <th>expenses</th>\n",
       "      <th>sex_male</th>\n",
       "      <th>smoker_yes</th>\n",
       "      <th>region_northwest</th>\n",
       "      <th>region_southeast</th>\n",
       "      <th>region_southwest</th>\n",
       "    </tr>\n",
       "  </thead>\n",
       "  <tbody>\n",
       "    <tr>\n",
       "      <th>0</th>\n",
       "      <td>19</td>\n",
       "      <td>27.9</td>\n",
       "      <td>0</td>\n",
       "      <td>16884.92</td>\n",
       "      <td>0</td>\n",
       "      <td>1</td>\n",
       "      <td>0</td>\n",
       "      <td>0</td>\n",
       "      <td>1</td>\n",
       "    </tr>\n",
       "    <tr>\n",
       "      <th>1</th>\n",
       "      <td>18</td>\n",
       "      <td>33.8</td>\n",
       "      <td>1</td>\n",
       "      <td>1725.55</td>\n",
       "      <td>1</td>\n",
       "      <td>0</td>\n",
       "      <td>0</td>\n",
       "      <td>1</td>\n",
       "      <td>0</td>\n",
       "    </tr>\n",
       "    <tr>\n",
       "      <th>2</th>\n",
       "      <td>28</td>\n",
       "      <td>33.0</td>\n",
       "      <td>3</td>\n",
       "      <td>4449.46</td>\n",
       "      <td>1</td>\n",
       "      <td>0</td>\n",
       "      <td>0</td>\n",
       "      <td>1</td>\n",
       "      <td>0</td>\n",
       "    </tr>\n",
       "    <tr>\n",
       "      <th>3</th>\n",
       "      <td>33</td>\n",
       "      <td>22.7</td>\n",
       "      <td>0</td>\n",
       "      <td>21984.47</td>\n",
       "      <td>1</td>\n",
       "      <td>0</td>\n",
       "      <td>1</td>\n",
       "      <td>0</td>\n",
       "      <td>0</td>\n",
       "    </tr>\n",
       "    <tr>\n",
       "      <th>4</th>\n",
       "      <td>32</td>\n",
       "      <td>28.9</td>\n",
       "      <td>0</td>\n",
       "      <td>3866.86</td>\n",
       "      <td>1</td>\n",
       "      <td>0</td>\n",
       "      <td>1</td>\n",
       "      <td>0</td>\n",
       "      <td>0</td>\n",
       "    </tr>\n",
       "    <tr>\n",
       "      <th>...</th>\n",
       "      <td>...</td>\n",
       "      <td>...</td>\n",
       "      <td>...</td>\n",
       "      <td>...</td>\n",
       "      <td>...</td>\n",
       "      <td>...</td>\n",
       "      <td>...</td>\n",
       "      <td>...</td>\n",
       "      <td>...</td>\n",
       "    </tr>\n",
       "    <tr>\n",
       "      <th>1333</th>\n",
       "      <td>50</td>\n",
       "      <td>31.0</td>\n",
       "      <td>3</td>\n",
       "      <td>10600.55</td>\n",
       "      <td>1</td>\n",
       "      <td>0</td>\n",
       "      <td>1</td>\n",
       "      <td>0</td>\n",
       "      <td>0</td>\n",
       "    </tr>\n",
       "    <tr>\n",
       "      <th>1334</th>\n",
       "      <td>18</td>\n",
       "      <td>31.9</td>\n",
       "      <td>0</td>\n",
       "      <td>2205.98</td>\n",
       "      <td>0</td>\n",
       "      <td>0</td>\n",
       "      <td>0</td>\n",
       "      <td>0</td>\n",
       "      <td>0</td>\n",
       "    </tr>\n",
       "    <tr>\n",
       "      <th>1335</th>\n",
       "      <td>18</td>\n",
       "      <td>36.9</td>\n",
       "      <td>0</td>\n",
       "      <td>1629.83</td>\n",
       "      <td>0</td>\n",
       "      <td>0</td>\n",
       "      <td>0</td>\n",
       "      <td>1</td>\n",
       "      <td>0</td>\n",
       "    </tr>\n",
       "    <tr>\n",
       "      <th>1336</th>\n",
       "      <td>21</td>\n",
       "      <td>25.8</td>\n",
       "      <td>0</td>\n",
       "      <td>2007.95</td>\n",
       "      <td>0</td>\n",
       "      <td>0</td>\n",
       "      <td>0</td>\n",
       "      <td>0</td>\n",
       "      <td>1</td>\n",
       "    </tr>\n",
       "    <tr>\n",
       "      <th>1337</th>\n",
       "      <td>61</td>\n",
       "      <td>29.1</td>\n",
       "      <td>0</td>\n",
       "      <td>29141.36</td>\n",
       "      <td>0</td>\n",
       "      <td>1</td>\n",
       "      <td>1</td>\n",
       "      <td>0</td>\n",
       "      <td>0</td>\n",
       "    </tr>\n",
       "  </tbody>\n",
       "</table>\n",
       "<p>1338 rows × 9 columns</p>\n",
       "</div>"
      ],
      "text/plain": [
       "      age   bmi  children  expenses  sex_male  smoker_yes  region_northwest  \\\n",
       "0      19  27.9         0  16884.92         0           1                 0   \n",
       "1      18  33.8         1   1725.55         1           0                 0   \n",
       "2      28  33.0         3   4449.46         1           0                 0   \n",
       "3      33  22.7         0  21984.47         1           0                 1   \n",
       "4      32  28.9         0   3866.86         1           0                 1   \n",
       "...   ...   ...       ...       ...       ...         ...               ...   \n",
       "1333   50  31.0         3  10600.55         1           0                 1   \n",
       "1334   18  31.9         0   2205.98         0           0                 0   \n",
       "1335   18  36.9         0   1629.83         0           0                 0   \n",
       "1336   21  25.8         0   2007.95         0           0                 0   \n",
       "1337   61  29.1         0  29141.36         0           1                 1   \n",
       "\n",
       "      region_southeast  region_southwest  \n",
       "0                    0                 1  \n",
       "1                    1                 0  \n",
       "2                    1                 0  \n",
       "3                    0                 0  \n",
       "4                    0                 0  \n",
       "...                ...               ...  \n",
       "1333                 0                 0  \n",
       "1334                 0                 0  \n",
       "1335                 1                 0  \n",
       "1336                 0                 1  \n",
       "1337                 0                 0  \n",
       "\n",
       "[1338 rows x 9 columns]"
      ]
     },
     "execution_count": 26,
     "metadata": {},
     "output_type": "execute_result"
    }
   ],
   "source": [
    "# one hot encoding\n",
    "df=pd.get_dummies(df,drop_first=True)\n",
    "df"
   ]
  },
  {
   "cell_type": "code",
   "execution_count": 28,
   "metadata": {},
   "outputs": [],
   "source": [
    "from sklearn.model_selection import train_test_split\n",
    "\n",
    "x=df[['age','bmi','smoker_yes']]\n",
    "y=df['expenses']"
   ]
  },
  {
   "cell_type": "code",
   "execution_count": 38,
   "metadata": {},
   "outputs": [
    {
     "name": "stdout",
     "output_type": "stream",
     "text": [
      "r2 score:  0.801102111923785\n",
      "random state:  11\n"
     ]
    }
   ],
   "source": [
    "from sklearn.model_selection import train_test_split\n",
    "from sklearn.linear_model import LinearRegression\n",
    "from sklearn.metrics import mean_squared_error,r2_score\n",
    "\n",
    "max=0\n",
    "index=0\n",
    "for i in range(1,43):\n",
    "    X_train, X_test, y_train, y_test = train_test_split(x, y, test_size=0.2,random_state=i)\n",
    "    model=LinearRegression()\n",
    "    model.fit(X_train,y_train)\n",
    "    y_pred=model.predict(X_test)\n",
    "    \n",
    "    j=r2_score(y_test,y_pred)\n",
    "    if(j>max):\n",
    "        max=j\n",
    "        index=i\n",
    "    \n",
    "#     print(\"R2 score: \",r2_score(y_test,y_pred),\" random state: \",i)\n",
    "    \n",
    "print(\"r2 score: \",max)\n",
    "print(\"random state: \",index)"
   ]
  },
  {
   "cell_type": "code",
   "execution_count": 31,
   "metadata": {},
   "outputs": [
    {
     "name": "stdout",
     "output_type": "stream",
     "text": [
      "(268, 3)\n",
      "(1070, 3)\n",
      "(268,)\n",
      "(1070,)\n"
     ]
    }
   ],
   "source": [
    "from sklearn.model_selection import train_test_split\n",
    "\n",
    "X_train, X_test, y_train, y_test = train_test_split(x, y, test_size=0.2,random_state=11)\n",
    "\n",
    "print(X_test.shape)\n",
    "print(X_train.shape)\n",
    "print(y_test.shape)\n",
    "print(y_train.shape)"
   ]
  },
  {
   "cell_type": "code",
   "execution_count": 32,
   "metadata": {},
   "outputs": [
    {
     "name": "stdout",
     "output_type": "stream",
     "text": [
      "[27905.2052798   6075.76969321 10008.1128505   6261.38426231\n",
      " 11966.65278276 11281.10640501  8040.82906983 16407.74848104\n",
      " 12650.12852429 33486.06617008  7276.58805631 16202.49869496\n",
      " 10682.84474361  3010.21555856  5743.8878729  36060.4323445\n",
      "  4529.87685326   377.02061712  7890.1898944  13918.67327067\n",
      " 10147.86065736  2287.54626699  4008.00853964  5010.25032885\n",
      "  5012.397849   14577.98810316  5289.74594257  8230.81556313\n",
      " 26940.16328833  7986.29534309 32876.91314012 29483.92599328\n",
      "  3025.47885134  -216.86912007 31494.85213213 14126.07057689\n",
      "  6296.28277207 25833.22596986 10398.97720568  8780.98605823\n",
      "  6053.91007217 12971.04209211 28029.68979389  1261.29733659\n",
      "  8350.92815301 11894.63135919 30966.46437416  3909.75557081\n",
      "  9272.32778631 26988.17757071 13877.17843264 29654.12350177\n",
      " 15813.85874385 35951.21112319 10778.87330838  3848.6255158\n",
      "  6608.5293754  13431.78035072 10141.34121301  3025.47885134\n",
      "  7960.06379783 14047.45282504 10990.71942273 37745.99610739\n",
      "  4619.46285759  7676.19625991 12294.23956278 27296.05224983\n",
      " 10287.60846422  2704.56528351 33040.59120425  7034.29224033\n",
      "  4992.76263201  7497.17801908 12752.67653341 10971.00732183\n",
      " 10444.84396792 11278.88200095  3383.5922169   6265.75618652\n",
      "   479.64551016 27280.78895706  2737.31627312 33483.91864994\n",
      "  3350.84122729  5416.30109288  5508.11150128 -2018.17354864\n",
      " 33289.63711634 12180.64641726 15802.96737528  2143.42653592\n",
      "  9708.9820198  16047.48759533 10219.88208094 12014.74394906\n",
      "  7298.44767736 18254.91967184 12156.63927607 12396.7875719\n",
      " 12054.01438303 16438.27506659 14008.18239108  1097.54238854\n",
      "  5575.76100064  9333.45784132  7010.28509914 11019.02160421\n",
      "  7215.53488522  4154.35267478  3363.95699992 11905.52272775\n",
      " 14663.20218328 10580.06608273 35999.22540557 12025.55843371\n",
      "  7361.80213643 34125.82266951  8667.46979663  5243.87918033\n",
      " 12322.54174427  2964.34879633 27889.94198703 10918.62111524\n",
      " 32335.40960952  5014.62225306 28793.9308074  33911.82903502\n",
      "  5907.56593704  5285.29713444 26861.54553648 12145.67102359\n",
      "  6735.16140963  1329.02371988 11752.73603218  4794.10917421\n",
      "  3973.11002989  8783.2104623  25612.63600709  2584.45269363\n",
      "  5643.41050001 14313.83266613 12222.14125529 10776.72578823\n",
      "  3040.81902803  7289.78071286  8374.9352942  36765.61393923\n",
      " 14944.84531715 32822.30252946 29815.80781359  8728.59985164\n",
      "  5167.40894863  6184.91403061 15171.95472427 31994.78394079\n",
      "  6366.1566755  14374.96272114  6475.30101289 11150.10244657\n",
      " 32326.74264502  1355.17838122  6916.40405452 28005.6826527\n",
      "  5285.29713444  9180.59426183 26798.26796133 36955.60043254\n",
      " 11785.41013787  -118.61615124  5547.30505132 28857.20838256\n",
      "  6309.3985447   9912.00740182 26793.89603712 12700.29032681\n",
      "  6787.54761622  6008.12019385 11650.11113914 12095.50922106\n",
      "  5481.87995602  1071.38772721 33038.52056802 11881.51558656\n",
      "  6754.87351053 10791.989081   10348.73851923 10091.10252656\n",
      " 12257.03976504  9909.85988167 39248.16970525 10053.97961274\n",
      "  7239.54202641 10053.90272882  8198.06457352  8200.28897759\n",
      " 27970.70725902  3383.5922169   9870.58944771 32276.42707465\n",
      " 40529.83022426 17001.63821823 37562.52905844 15905.51538441\n",
      "  3239.47248583  6824.59364612  4082.25436728 31935.87828984\n",
      "  6287.53892365  3392.33606532 12704.66225102 12735.26572049\n",
      "  4250.38123954  6036.49925925 12604.18487813  9706.83449966\n",
      "   844.27832008 11027.84233655  7719.83861808  3459.98556469\n",
      " 10820.3681464  26656.2957504  35822.35468489 14591.10387579\n",
      "  7715.54357779 26656.2957504  12704.66225102  7337.79499524\n",
      " 10916.47359509 33837.6600913   3344.32178294  6163.13129348\n",
      " 15575.85796816  8606.41662554 10401.20160975 16019.10852993\n",
      " 14226.47106587  3855.22184407 11578.01283165  5848.66028609\n",
      "  6213.29309601  8191.46824525   783.14826507 36881.3546049\n",
      " 33610.55068417  1392.30129504  9674.08351005   339.8977033\n",
      "  6010.26771399 12894.64874433 31136.73876657  9403.33174475\n",
      " 36739.4592779  17506.01883502  1957.81196683  5475.28362775\n",
      "  5750.40731726 31007.88232827  6466.55716447  9466.6093199\n",
      "  7665.30489134  9503.73223372  4435.99580864  2304.95707991\n",
      "  8994.97969273  6272.19874696  4248.2337194  12438.28240993]\n"
     ]
    }
   ],
   "source": [
    "from sklearn.linear_model import LinearRegression\n",
    "model=LinearRegression()\n",
    "model.fit(X_train,y_train)\n",
    "y_pred=model.predict(X_test)\n",
    "print(y_pred)"
   ]
  },
  {
   "cell_type": "code",
   "execution_count": 35,
   "metadata": {},
   "outputs": [
    {
     "data": {
      "text/html": [
       "<div>\n",
       "<style scoped>\n",
       "    .dataframe tbody tr th:only-of-type {\n",
       "        vertical-align: middle;\n",
       "    }\n",
       "\n",
       "    .dataframe tbody tr th {\n",
       "        vertical-align: top;\n",
       "    }\n",
       "\n",
       "    .dataframe thead th {\n",
       "        text-align: right;\n",
       "    }\n",
       "</style>\n",
       "<table border=\"1\" class=\"dataframe\">\n",
       "  <thead>\n",
       "    <tr style=\"text-align: right;\">\n",
       "      <th></th>\n",
       "      <th>Actual</th>\n",
       "      <th>Predicted</th>\n",
       "    </tr>\n",
       "  </thead>\n",
       "  <tbody>\n",
       "    <tr>\n",
       "      <th>1313</th>\n",
       "      <td>36397.58</td>\n",
       "      <td>27905.205280</td>\n",
       "    </tr>\n",
       "    <tr>\n",
       "      <th>1254</th>\n",
       "      <td>4415.16</td>\n",
       "      <td>6075.769693</td>\n",
       "    </tr>\n",
       "    <tr>\n",
       "      <th>372</th>\n",
       "      <td>7639.42</td>\n",
       "      <td>10008.112851</td>\n",
       "    </tr>\n",
       "    <tr>\n",
       "      <th>937</th>\n",
       "      <td>8965.80</td>\n",
       "      <td>6261.384262</td>\n",
       "    </tr>\n",
       "    <tr>\n",
       "      <th>484</th>\n",
       "      <td>9563.03</td>\n",
       "      <td>11966.652783</td>\n",
       "    </tr>\n",
       "    <tr>\n",
       "      <th>...</th>\n",
       "      <td>...</td>\n",
       "      <td>...</td>\n",
       "    </tr>\n",
       "    <tr>\n",
       "      <th>427</th>\n",
       "      <td>7323.73</td>\n",
       "      <td>2304.957080</td>\n",
       "    </tr>\n",
       "    <tr>\n",
       "      <th>1153</th>\n",
       "      <td>5630.46</td>\n",
       "      <td>8994.979693</td>\n",
       "    </tr>\n",
       "    <tr>\n",
       "      <th>973</th>\n",
       "      <td>1759.34</td>\n",
       "      <td>6272.198747</td>\n",
       "    </tr>\n",
       "    <tr>\n",
       "      <th>608</th>\n",
       "      <td>4435.09</td>\n",
       "      <td>4248.233719</td>\n",
       "    </tr>\n",
       "    <tr>\n",
       "      <th>775</th>\n",
       "      <td>10560.49</td>\n",
       "      <td>12438.282410</td>\n",
       "    </tr>\n",
       "  </tbody>\n",
       "</table>\n",
       "<p>268 rows × 2 columns</p>\n",
       "</div>"
      ],
      "text/plain": [
       "        Actual     Predicted\n",
       "1313  36397.58  27905.205280\n",
       "1254   4415.16   6075.769693\n",
       "372    7639.42  10008.112851\n",
       "937    8965.80   6261.384262\n",
       "484    9563.03  11966.652783\n",
       "...        ...           ...\n",
       "427    7323.73   2304.957080\n",
       "1153   5630.46   8994.979693\n",
       "973    1759.34   6272.198747\n",
       "608    4435.09   4248.233719\n",
       "775   10560.49  12438.282410\n",
       "\n",
       "[268 rows x 2 columns]"
      ]
     },
     "execution_count": 35,
     "metadata": {},
     "output_type": "execute_result"
    }
   ],
   "source": [
    "diff=pd.DataFrame({\n",
    "    'Actual':y_test,'Predicted':y_pred\n",
    "})\n",
    "diff"
   ]
  },
  {
   "cell_type": "code",
   "execution_count": 34,
   "metadata": {},
   "outputs": [
    {
     "name": "stdout",
     "output_type": "stream",
     "text": [
      "MAE:  3784.361100036369\n",
      "MSE:  27581739.22116713\n",
      "R2 score:  0.801102111923785\n"
     ]
    }
   ],
   "source": [
    "from sklearn import metrics\n",
    "print(\"MAE: \",metrics.mean_absolute_error(y_test,y_pred))\n",
    "print(\"MSE: \",metrics.mean_squared_error(y_test,y_pred))\n",
    "print(\"R2 score: \",metrics.r2_score(y_test,y_pred))"
   ]
  },
  {
   "cell_type": "markdown",
   "metadata": {},
   "source": [
    "## ------------------------------------------------------------------------------------------"
   ]
  },
  {
   "cell_type": "code",
   "execution_count": 40,
   "metadata": {},
   "outputs": [
    {
     "data": {
      "text/html": [
       "<div>\n",
       "<style scoped>\n",
       "    .dataframe tbody tr th:only-of-type {\n",
       "        vertical-align: middle;\n",
       "    }\n",
       "\n",
       "    .dataframe tbody tr th {\n",
       "        vertical-align: top;\n",
       "    }\n",
       "\n",
       "    .dataframe thead th {\n",
       "        text-align: right;\n",
       "    }\n",
       "</style>\n",
       "<table border=\"1\" class=\"dataframe\">\n",
       "  <thead>\n",
       "    <tr style=\"text-align: right;\">\n",
       "      <th></th>\n",
       "      <th>MODELYEAR</th>\n",
       "      <th>MAKE</th>\n",
       "      <th>MODEL</th>\n",
       "      <th>VEHICLECLASS</th>\n",
       "      <th>ENGINESIZE</th>\n",
       "      <th>CYLINDERS</th>\n",
       "      <th>TRANSMISSION</th>\n",
       "      <th>FUELTYPE</th>\n",
       "      <th>FUELCONSUMPTION_CITY</th>\n",
       "      <th>FUELCONSUMPTION_HWY</th>\n",
       "      <th>FUELCONSUMPTION_COMB</th>\n",
       "      <th>FUELCONSUMPTION_COMB_MPG</th>\n",
       "      <th>CO2EMISSIONS</th>\n",
       "    </tr>\n",
       "  </thead>\n",
       "  <tbody>\n",
       "    <tr>\n",
       "      <th>0</th>\n",
       "      <td>2014</td>\n",
       "      <td>ACURA</td>\n",
       "      <td>ILX</td>\n",
       "      <td>COMPACT</td>\n",
       "      <td>2.0</td>\n",
       "      <td>4</td>\n",
       "      <td>AS5</td>\n",
       "      <td>Z</td>\n",
       "      <td>9.9</td>\n",
       "      <td>6.7</td>\n",
       "      <td>8.5</td>\n",
       "      <td>33</td>\n",
       "      <td>196</td>\n",
       "    </tr>\n",
       "    <tr>\n",
       "      <th>1</th>\n",
       "      <td>2014</td>\n",
       "      <td>ACURA</td>\n",
       "      <td>ILX</td>\n",
       "      <td>COMPACT</td>\n",
       "      <td>2.4</td>\n",
       "      <td>4</td>\n",
       "      <td>M6</td>\n",
       "      <td>Z</td>\n",
       "      <td>11.2</td>\n",
       "      <td>7.7</td>\n",
       "      <td>9.6</td>\n",
       "      <td>29</td>\n",
       "      <td>221</td>\n",
       "    </tr>\n",
       "    <tr>\n",
       "      <th>2</th>\n",
       "      <td>2014</td>\n",
       "      <td>ACURA</td>\n",
       "      <td>ILX HYBRID</td>\n",
       "      <td>COMPACT</td>\n",
       "      <td>1.5</td>\n",
       "      <td>4</td>\n",
       "      <td>AV7</td>\n",
       "      <td>Z</td>\n",
       "      <td>6.0</td>\n",
       "      <td>5.8</td>\n",
       "      <td>5.9</td>\n",
       "      <td>48</td>\n",
       "      <td>136</td>\n",
       "    </tr>\n",
       "    <tr>\n",
       "      <th>3</th>\n",
       "      <td>2014</td>\n",
       "      <td>ACURA</td>\n",
       "      <td>MDX 4WD</td>\n",
       "      <td>SUV - SMALL</td>\n",
       "      <td>3.5</td>\n",
       "      <td>6</td>\n",
       "      <td>AS6</td>\n",
       "      <td>Z</td>\n",
       "      <td>12.7</td>\n",
       "      <td>9.1</td>\n",
       "      <td>11.1</td>\n",
       "      <td>25</td>\n",
       "      <td>255</td>\n",
       "    </tr>\n",
       "    <tr>\n",
       "      <th>4</th>\n",
       "      <td>2014</td>\n",
       "      <td>ACURA</td>\n",
       "      <td>RDX AWD</td>\n",
       "      <td>SUV - SMALL</td>\n",
       "      <td>3.5</td>\n",
       "      <td>6</td>\n",
       "      <td>AS6</td>\n",
       "      <td>Z</td>\n",
       "      <td>12.1</td>\n",
       "      <td>8.7</td>\n",
       "      <td>10.6</td>\n",
       "      <td>27</td>\n",
       "      <td>244</td>\n",
       "    </tr>\n",
       "    <tr>\n",
       "      <th>...</th>\n",
       "      <td>...</td>\n",
       "      <td>...</td>\n",
       "      <td>...</td>\n",
       "      <td>...</td>\n",
       "      <td>...</td>\n",
       "      <td>...</td>\n",
       "      <td>...</td>\n",
       "      <td>...</td>\n",
       "      <td>...</td>\n",
       "      <td>...</td>\n",
       "      <td>...</td>\n",
       "      <td>...</td>\n",
       "      <td>...</td>\n",
       "    </tr>\n",
       "    <tr>\n",
       "      <th>1062</th>\n",
       "      <td>2014</td>\n",
       "      <td>VOLVO</td>\n",
       "      <td>XC60 AWD</td>\n",
       "      <td>SUV - SMALL</td>\n",
       "      <td>3.0</td>\n",
       "      <td>6</td>\n",
       "      <td>AS6</td>\n",
       "      <td>X</td>\n",
       "      <td>13.4</td>\n",
       "      <td>9.8</td>\n",
       "      <td>11.8</td>\n",
       "      <td>24</td>\n",
       "      <td>271</td>\n",
       "    </tr>\n",
       "    <tr>\n",
       "      <th>1063</th>\n",
       "      <td>2014</td>\n",
       "      <td>VOLVO</td>\n",
       "      <td>XC60 AWD</td>\n",
       "      <td>SUV - SMALL</td>\n",
       "      <td>3.2</td>\n",
       "      <td>6</td>\n",
       "      <td>AS6</td>\n",
       "      <td>X</td>\n",
       "      <td>13.2</td>\n",
       "      <td>9.5</td>\n",
       "      <td>11.5</td>\n",
       "      <td>25</td>\n",
       "      <td>264</td>\n",
       "    </tr>\n",
       "    <tr>\n",
       "      <th>1064</th>\n",
       "      <td>2014</td>\n",
       "      <td>VOLVO</td>\n",
       "      <td>XC70 AWD</td>\n",
       "      <td>SUV - SMALL</td>\n",
       "      <td>3.0</td>\n",
       "      <td>6</td>\n",
       "      <td>AS6</td>\n",
       "      <td>X</td>\n",
       "      <td>13.4</td>\n",
       "      <td>9.8</td>\n",
       "      <td>11.8</td>\n",
       "      <td>24</td>\n",
       "      <td>271</td>\n",
       "    </tr>\n",
       "    <tr>\n",
       "      <th>1065</th>\n",
       "      <td>2014</td>\n",
       "      <td>VOLVO</td>\n",
       "      <td>XC70 AWD</td>\n",
       "      <td>SUV - SMALL</td>\n",
       "      <td>3.2</td>\n",
       "      <td>6</td>\n",
       "      <td>AS6</td>\n",
       "      <td>X</td>\n",
       "      <td>12.9</td>\n",
       "      <td>9.3</td>\n",
       "      <td>11.3</td>\n",
       "      <td>25</td>\n",
       "      <td>260</td>\n",
       "    </tr>\n",
       "    <tr>\n",
       "      <th>1066</th>\n",
       "      <td>2014</td>\n",
       "      <td>VOLVO</td>\n",
       "      <td>XC90 AWD</td>\n",
       "      <td>SUV - STANDARD</td>\n",
       "      <td>3.2</td>\n",
       "      <td>6</td>\n",
       "      <td>AS6</td>\n",
       "      <td>X</td>\n",
       "      <td>14.9</td>\n",
       "      <td>10.2</td>\n",
       "      <td>12.8</td>\n",
       "      <td>22</td>\n",
       "      <td>294</td>\n",
       "    </tr>\n",
       "  </tbody>\n",
       "</table>\n",
       "<p>1067 rows × 13 columns</p>\n",
       "</div>"
      ],
      "text/plain": [
       "      MODELYEAR   MAKE       MODEL    VEHICLECLASS  ENGINESIZE  CYLINDERS  \\\n",
       "0          2014  ACURA         ILX         COMPACT         2.0          4   \n",
       "1          2014  ACURA         ILX         COMPACT         2.4          4   \n",
       "2          2014  ACURA  ILX HYBRID         COMPACT         1.5          4   \n",
       "3          2014  ACURA     MDX 4WD     SUV - SMALL         3.5          6   \n",
       "4          2014  ACURA     RDX AWD     SUV - SMALL         3.5          6   \n",
       "...         ...    ...         ...             ...         ...        ...   \n",
       "1062       2014  VOLVO    XC60 AWD     SUV - SMALL         3.0          6   \n",
       "1063       2014  VOLVO    XC60 AWD     SUV - SMALL         3.2          6   \n",
       "1064       2014  VOLVO    XC70 AWD     SUV - SMALL         3.0          6   \n",
       "1065       2014  VOLVO    XC70 AWD     SUV - SMALL         3.2          6   \n",
       "1066       2014  VOLVO    XC90 AWD  SUV - STANDARD         3.2          6   \n",
       "\n",
       "     TRANSMISSION FUELTYPE  FUELCONSUMPTION_CITY  FUELCONSUMPTION_HWY  \\\n",
       "0             AS5        Z                   9.9                  6.7   \n",
       "1              M6        Z                  11.2                  7.7   \n",
       "2             AV7        Z                   6.0                  5.8   \n",
       "3             AS6        Z                  12.7                  9.1   \n",
       "4             AS6        Z                  12.1                  8.7   \n",
       "...           ...      ...                   ...                  ...   \n",
       "1062          AS6        X                  13.4                  9.8   \n",
       "1063          AS6        X                  13.2                  9.5   \n",
       "1064          AS6        X                  13.4                  9.8   \n",
       "1065          AS6        X                  12.9                  9.3   \n",
       "1066          AS6        X                  14.9                 10.2   \n",
       "\n",
       "      FUELCONSUMPTION_COMB  FUELCONSUMPTION_COMB_MPG  CO2EMISSIONS  \n",
       "0                      8.5                        33           196  \n",
       "1                      9.6                        29           221  \n",
       "2                      5.9                        48           136  \n",
       "3                     11.1                        25           255  \n",
       "4                     10.6                        27           244  \n",
       "...                    ...                       ...           ...  \n",
       "1062                  11.8                        24           271  \n",
       "1063                  11.5                        25           264  \n",
       "1064                  11.8                        24           271  \n",
       "1065                  11.3                        25           260  \n",
       "1066                  12.8                        22           294  \n",
       "\n",
       "[1067 rows x 13 columns]"
      ]
     },
     "execution_count": 40,
     "metadata": {},
     "output_type": "execute_result"
    }
   ],
   "source": [
    "import pandas as pd\n",
    "\n",
    "df=pd.read_csv(\"FuelConsumptionCo2.csv\")\n",
    "df"
   ]
  },
  {
   "cell_type": "code",
   "execution_count": 41,
   "metadata": {},
   "outputs": [
    {
     "name": "stdout",
     "output_type": "stream",
     "text": [
      "<class 'pandas.core.frame.DataFrame'>\n",
      "RangeIndex: 1067 entries, 0 to 1066\n",
      "Data columns (total 13 columns):\n",
      " #   Column                    Non-Null Count  Dtype  \n",
      "---  ------                    --------------  -----  \n",
      " 0   MODELYEAR                 1067 non-null   int64  \n",
      " 1   MAKE                      1067 non-null   object \n",
      " 2   MODEL                     1067 non-null   object \n",
      " 3   VEHICLECLASS              1067 non-null   object \n",
      " 4   ENGINESIZE                1067 non-null   float64\n",
      " 5   CYLINDERS                 1067 non-null   int64  \n",
      " 6   TRANSMISSION              1067 non-null   object \n",
      " 7   FUELTYPE                  1067 non-null   object \n",
      " 8   FUELCONSUMPTION_CITY      1067 non-null   float64\n",
      " 9   FUELCONSUMPTION_HWY       1067 non-null   float64\n",
      " 10  FUELCONSUMPTION_COMB      1067 non-null   float64\n",
      " 11  FUELCONSUMPTION_COMB_MPG  1067 non-null   int64  \n",
      " 12  CO2EMISSIONS              1067 non-null   int64  \n",
      "dtypes: float64(4), int64(4), object(5)\n",
      "memory usage: 108.5+ KB\n"
     ]
    }
   ],
   "source": [
    "df.info()"
   ]
  },
  {
   "cell_type": "code",
   "execution_count": 43,
   "metadata": {},
   "outputs": [
    {
     "name": "stdout",
     "output_type": "stream",
     "text": [
      "(1067, 3)\n",
      "(1067,)\n"
     ]
    }
   ],
   "source": [
    "x=df[['ENGINESIZE','CYLINDERS','FUELCONSUMPTION_COMB']]\n",
    "y=df['CO2EMISSIONS']\n",
    "print(x.shape)\n",
    "print(y.shape)"
   ]
  },
  {
   "cell_type": "code",
   "execution_count": 44,
   "metadata": {},
   "outputs": [
    {
     "name": "stdout",
     "output_type": "stream",
     "text": [
      "r2 score:  0.8936913135355137\n",
      "random state:  12\n"
     ]
    }
   ],
   "source": [
    "from sklearn.model_selection import train_test_split\n",
    "from sklearn.linear_model import LinearRegression\n",
    "from sklearn.metrics import mean_squared_error,r2_score\n",
    "\n",
    "max=0\n",
    "index=0\n",
    "for i in range(1,43):\n",
    "    X_train, X_test, y_train, y_test = train_test_split(x, y, test_size=0.2,random_state=i)\n",
    "    model=LinearRegression()\n",
    "    model.fit(X_train,y_train)\n",
    "    y_pred=model.predict(X_test)\n",
    "    \n",
    "    j=r2_score(y_test,y_pred)\n",
    "    if(j>max):\n",
    "        max=j\n",
    "        index=i\n",
    "    \n",
    "#     print(\"R2 score: \",r2_score(y_test,y_pred),\" random state: \",i)\n",
    "    \n",
    "print(\"r2 score: \",max)\n",
    "print(\"random state: \",index)"
   ]
  },
  {
   "cell_type": "code",
   "execution_count": 46,
   "metadata": {},
   "outputs": [
    {
     "name": "stdout",
     "output_type": "stream",
     "text": [
      "(214, 3)\n",
      "(853, 3)\n",
      "(214,)\n",
      "(853,)\n"
     ]
    }
   ],
   "source": [
    "from sklearn.model_selection import train_test_split\n",
    "\n",
    "X_train, X_test, y_train, y_test = train_test_split(x, y, test_size=0.2,random_state=12)\n",
    "\n",
    "print(X_test.shape)\n",
    "print(X_train.shape)\n",
    "print(y_test.shape)\n",
    "print(y_train.shape)"
   ]
  },
  {
   "cell_type": "code",
   "execution_count": 47,
   "metadata": {},
   "outputs": [
    {
     "name": "stdout",
     "output_type": "stream",
     "text": [
      "[214.58357275 387.83515037 369.23735994 306.26538599 185.62059756\n",
      " 316.67218891 345.85546202 241.52144122 301.14327219 274.44895214\n",
      " 232.16084671 370.45736525 280.06530885 255.28716728 185.66465714\n",
      " 187.49271646 318.72054614 383.87061465 264.86805971 298.26900446\n",
      " 261.64131532 319.67863538 205.96076957 197.24984722 254.19689929\n",
      " 206.91885881 260.03355391 204.264889   186.62274638 302.69738651\n",
      " 247.53433417 321.59481387 239.60526274 305.04293925 249.45051266\n",
      " 271.48656524 378.86231195 234.68263777 191.58943093 186.79898471\n",
      " 210.75121578 256.24525652 256.15713736 253.28286963 197.33796638\n",
      " 186.53462722 298.42443371 257.1152266  326.044005   278.36942827\n",
      " 294.50395758 326.38526008 211.88554335 201.08220419 287.92951163\n",
      " 320.50454588 237.46878634 306.39756473 204.04459108 183.83659782\n",
      " 258.07331584 347.59540217 249.36239349 162.84675364 227.21497124\n",
      " 267.61014869 220.86683767 222.78301615 211.92960294 222.55670377\n",
      " 256.15713736 272.44465449 313.66574243 344.34784871 341.0650158\n",
      " 243.61385804 253.15069088 226.61537312 193.50560941 253.23881005\n",
      " 266.74017861 214.75981108 278.36942827 196.37987714 194.68399657\n",
      " 255.06686937 250.14424441 255.02280979 207.13915672 307.91720697\n",
      " 210.92745411 378.91515168 264.51558305 205.17891866 193.41749025\n",
      " 368.98178259 186.84304429 336.14239084 194.28746032 181.05044926\n",
      " 294.50395758 277.2351007  300.42873136 263.77779172 185.66465714\n",
      " 204.264889   200.21223411 160.17554779 192.28316267 229.17520931\n",
      " 321.46263512 270.48441642 261.64131532 196.20363881 258.16143501\n",
      " 210.92745411 216.67598957 308.48998155 214.80387067 182.79038941\n",
      " 194.28746032 209.01127563 435.08994034 189.58513327 258.02925626\n",
      " 305.30729674 248.44836383 222.78301615 237.88613166 184.79468706\n",
      " 292.67589826 332.66251053 251.41075073 267.69826786 189.49701411\n",
      " 258.11737543 201.39062127 240.56335198 260.99164316 348.95002766\n",
      " 210.75121578 199.29820445 201.17032335 269.52632718 262.86376206\n",
      " 339.93068823 245.35379819 247.49027459 213.62548351 222.35965637\n",
      " 254.32907804 204.264889   398.37413204 205.96076957 347.22211643\n",
      " 208.8350373  298.31306404 411.83144102 327.87206432 341.28531372\n",
      " 261.86161323 325.08591576 332.35409345 230.87108988 249.18615516\n",
      " 258.76704759 316.15469549 311.36424928 285.85790388 436.04802959\n",
      " 205.00268032 227.21497124 248.22806592 294.50395758 194.68399657\n",
      " 245.57409611 259.72513683 186.62274638 215.54166199 276.58542854\n",
      " 245.35379819 305.73667099 212.66739427 334.31433152 203.26274017\n",
      " 314.06227868 247.57839376 271.48656524 239.71419098 229.13114972\n",
      " 247.49027459 325.95588583 177.21809228 217.63407881 349.9081169\n",
      " 330.04137872 197.33796638 261.9497324  183.70441907 184.88280623\n",
      " 305.83601174 316.67218891 314.06227868 249.18615516 208.05318638\n",
      " 205.96076957 306.26538599 343.93928353 197.33796638 197.33796638\n",
      " 180.96233009 264.77994054 177.95588361 189.49701411]\n"
     ]
    }
   ],
   "source": [
    "from sklearn.linear_model import LinearRegression\n",
    "model=LinearRegression()\n",
    "model.fit(X_train,y_train)\n",
    "y_pred=model.predict(X_test)\n",
    "print(y_pred)"
   ]
  },
  {
   "cell_type": "code",
   "execution_count": 48,
   "metadata": {},
   "outputs": [
    {
     "data": {
      "text/html": [
       "<div>\n",
       "<style scoped>\n",
       "    .dataframe tbody tr th:only-of-type {\n",
       "        vertical-align: middle;\n",
       "    }\n",
       "\n",
       "    .dataframe tbody tr th {\n",
       "        vertical-align: top;\n",
       "    }\n",
       "\n",
       "    .dataframe thead th {\n",
       "        text-align: right;\n",
       "    }\n",
       "</style>\n",
       "<table border=\"1\" class=\"dataframe\">\n",
       "  <thead>\n",
       "    <tr style=\"text-align: right;\">\n",
       "      <th></th>\n",
       "      <th>Actual</th>\n",
       "      <th>Predicted</th>\n",
       "    </tr>\n",
       "  </thead>\n",
       "  <tbody>\n",
       "    <tr>\n",
       "      <th>363</th>\n",
       "      <td>235</td>\n",
       "      <td>214.583573</td>\n",
       "    </tr>\n",
       "    <tr>\n",
       "      <th>216</th>\n",
       "      <td>344</td>\n",
       "      <td>387.835150</td>\n",
       "    </tr>\n",
       "    <tr>\n",
       "      <th>13</th>\n",
       "      <td>359</td>\n",
       "      <td>369.237360</td>\n",
       "    </tr>\n",
       "    <tr>\n",
       "      <th>556</th>\n",
       "      <td>306</td>\n",
       "      <td>306.265386</td>\n",
       "    </tr>\n",
       "    <tr>\n",
       "      <th>497</th>\n",
       "      <td>177</td>\n",
       "      <td>185.620598</td>\n",
       "    </tr>\n",
       "    <tr>\n",
       "      <th>...</th>\n",
       "      <td>...</td>\n",
       "      <td>...</td>\n",
       "    </tr>\n",
       "    <tr>\n",
       "      <th>607</th>\n",
       "      <td>193</td>\n",
       "      <td>197.337966</td>\n",
       "    </tr>\n",
       "    <tr>\n",
       "      <th>977</th>\n",
       "      <td>159</td>\n",
       "      <td>180.962330</td>\n",
       "    </tr>\n",
       "    <tr>\n",
       "      <th>586</th>\n",
       "      <td>278</td>\n",
       "      <td>264.779941</td>\n",
       "    </tr>\n",
       "    <tr>\n",
       "      <th>495</th>\n",
       "      <td>159</td>\n",
       "      <td>177.955884</td>\n",
       "    </tr>\n",
       "    <tr>\n",
       "      <th>793</th>\n",
       "      <td>184</td>\n",
       "      <td>189.497014</td>\n",
       "    </tr>\n",
       "  </tbody>\n",
       "</table>\n",
       "<p>214 rows × 2 columns</p>\n",
       "</div>"
      ],
      "text/plain": [
       "     Actual   Predicted\n",
       "363     235  214.583573\n",
       "216     344  387.835150\n",
       "13      359  369.237360\n",
       "556     306  306.265386\n",
       "497     177  185.620598\n",
       "..      ...         ...\n",
       "607     193  197.337966\n",
       "977     159  180.962330\n",
       "586     278  264.779941\n",
       "495     159  177.955884\n",
       "793     184  189.497014\n",
       "\n",
       "[214 rows x 2 columns]"
      ]
     },
     "execution_count": 48,
     "metadata": {},
     "output_type": "execute_result"
    }
   ],
   "source": [
    "diff=pd.DataFrame({\n",
    "    'Actual':y_test,'Predicted':y_pred\n",
    "})\n",
    "diff"
   ]
  },
  {
   "cell_type": "code",
   "execution_count": 52,
   "metadata": {},
   "outputs": [
    {
     "name": "stdout",
     "output_type": "stream",
     "text": [
      "coefficient:  [10.02148826  7.97914549  9.58089243]\n",
      "intercept:  64.89891153798649\n"
     ]
    }
   ],
   "source": [
    "print(\"coefficient: \",model.coef_)\n",
    "print(\"intercept: \",model.intercept_)"
   ]
  },
  {
   "cell_type": "code",
   "execution_count": 49,
   "metadata": {},
   "outputs": [
    {
     "name": "stdout",
     "output_type": "stream",
     "text": [
      "MAE:  15.016970621647852\n",
      "MSE:  419.4789972791401\n",
      "R2 score:  0.8936913135355137\n"
     ]
    }
   ],
   "source": [
    "from sklearn import metrics\n",
    "print(\"MAE: \",metrics.mean_absolute_error(y_test,y_pred))\n",
    "print(\"MSE: \",metrics.mean_squared_error(y_test,y_pred))\n",
    "print(\"R2 score: \",metrics.r2_score(y_test,y_pred))"
   ]
  },
  {
   "cell_type": "code",
   "execution_count": 51,
   "metadata": {},
   "outputs": [
    {
     "data": {
      "text/html": [
       "<div>\n",
       "<style scoped>\n",
       "    .dataframe tbody tr th:only-of-type {\n",
       "        vertical-align: middle;\n",
       "    }\n",
       "\n",
       "    .dataframe tbody tr th {\n",
       "        vertical-align: top;\n",
       "    }\n",
       "\n",
       "    .dataframe thead th {\n",
       "        text-align: right;\n",
       "    }\n",
       "</style>\n",
       "<table border=\"1\" class=\"dataframe\">\n",
       "  <thead>\n",
       "    <tr style=\"text-align: right;\">\n",
       "      <th></th>\n",
       "      <th>MODELYEAR</th>\n",
       "      <th>ENGINESIZE</th>\n",
       "      <th>CYLINDERS</th>\n",
       "      <th>FUELCONSUMPTION_CITY</th>\n",
       "      <th>FUELCONSUMPTION_HWY</th>\n",
       "      <th>FUELCONSUMPTION_COMB</th>\n",
       "      <th>FUELCONSUMPTION_COMB_MPG</th>\n",
       "      <th>CO2EMISSIONS</th>\n",
       "    </tr>\n",
       "  </thead>\n",
       "  <tbody>\n",
       "    <tr>\n",
       "      <th>MODELYEAR</th>\n",
       "      <td>NaN</td>\n",
       "      <td>NaN</td>\n",
       "      <td>NaN</td>\n",
       "      <td>NaN</td>\n",
       "      <td>NaN</td>\n",
       "      <td>NaN</td>\n",
       "      <td>NaN</td>\n",
       "      <td>NaN</td>\n",
       "    </tr>\n",
       "    <tr>\n",
       "      <th>ENGINESIZE</th>\n",
       "      <td>NaN</td>\n",
       "      <td>1.000000</td>\n",
       "      <td>0.934011</td>\n",
       "      <td>0.832225</td>\n",
       "      <td>0.778746</td>\n",
       "      <td>0.819482</td>\n",
       "      <td>-0.808554</td>\n",
       "      <td>0.874154</td>\n",
       "    </tr>\n",
       "    <tr>\n",
       "      <th>CYLINDERS</th>\n",
       "      <td>NaN</td>\n",
       "      <td>0.934011</td>\n",
       "      <td>1.000000</td>\n",
       "      <td>0.796473</td>\n",
       "      <td>0.724594</td>\n",
       "      <td>0.776788</td>\n",
       "      <td>-0.770430</td>\n",
       "      <td>0.849685</td>\n",
       "    </tr>\n",
       "    <tr>\n",
       "      <th>FUELCONSUMPTION_CITY</th>\n",
       "      <td>NaN</td>\n",
       "      <td>0.832225</td>\n",
       "      <td>0.796473</td>\n",
       "      <td>1.000000</td>\n",
       "      <td>0.965718</td>\n",
       "      <td>0.995542</td>\n",
       "      <td>-0.935613</td>\n",
       "      <td>0.898039</td>\n",
       "    </tr>\n",
       "    <tr>\n",
       "      <th>FUELCONSUMPTION_HWY</th>\n",
       "      <td>NaN</td>\n",
       "      <td>0.778746</td>\n",
       "      <td>0.724594</td>\n",
       "      <td>0.965718</td>\n",
       "      <td>1.000000</td>\n",
       "      <td>0.985804</td>\n",
       "      <td>-0.893809</td>\n",
       "      <td>0.861748</td>\n",
       "    </tr>\n",
       "    <tr>\n",
       "      <th>FUELCONSUMPTION_COMB</th>\n",
       "      <td>NaN</td>\n",
       "      <td>0.819482</td>\n",
       "      <td>0.776788</td>\n",
       "      <td>0.995542</td>\n",
       "      <td>0.985804</td>\n",
       "      <td>1.000000</td>\n",
       "      <td>-0.927965</td>\n",
       "      <td>0.892129</td>\n",
       "    </tr>\n",
       "    <tr>\n",
       "      <th>FUELCONSUMPTION_COMB_MPG</th>\n",
       "      <td>NaN</td>\n",
       "      <td>-0.808554</td>\n",
       "      <td>-0.770430</td>\n",
       "      <td>-0.935613</td>\n",
       "      <td>-0.893809</td>\n",
       "      <td>-0.927965</td>\n",
       "      <td>1.000000</td>\n",
       "      <td>-0.906394</td>\n",
       "    </tr>\n",
       "    <tr>\n",
       "      <th>CO2EMISSIONS</th>\n",
       "      <td>NaN</td>\n",
       "      <td>0.874154</td>\n",
       "      <td>0.849685</td>\n",
       "      <td>0.898039</td>\n",
       "      <td>0.861748</td>\n",
       "      <td>0.892129</td>\n",
       "      <td>-0.906394</td>\n",
       "      <td>1.000000</td>\n",
       "    </tr>\n",
       "  </tbody>\n",
       "</table>\n",
       "</div>"
      ],
      "text/plain": [
       "                          MODELYEAR  ENGINESIZE  CYLINDERS  \\\n",
       "MODELYEAR                       NaN         NaN        NaN   \n",
       "ENGINESIZE                      NaN    1.000000   0.934011   \n",
       "CYLINDERS                       NaN    0.934011   1.000000   \n",
       "FUELCONSUMPTION_CITY            NaN    0.832225   0.796473   \n",
       "FUELCONSUMPTION_HWY             NaN    0.778746   0.724594   \n",
       "FUELCONSUMPTION_COMB            NaN    0.819482   0.776788   \n",
       "FUELCONSUMPTION_COMB_MPG        NaN   -0.808554  -0.770430   \n",
       "CO2EMISSIONS                    NaN    0.874154   0.849685   \n",
       "\n",
       "                          FUELCONSUMPTION_CITY  FUELCONSUMPTION_HWY  \\\n",
       "MODELYEAR                                  NaN                  NaN   \n",
       "ENGINESIZE                            0.832225             0.778746   \n",
       "CYLINDERS                             0.796473             0.724594   \n",
       "FUELCONSUMPTION_CITY                  1.000000             0.965718   \n",
       "FUELCONSUMPTION_HWY                   0.965718             1.000000   \n",
       "FUELCONSUMPTION_COMB                  0.995542             0.985804   \n",
       "FUELCONSUMPTION_COMB_MPG             -0.935613            -0.893809   \n",
       "CO2EMISSIONS                          0.898039             0.861748   \n",
       "\n",
       "                          FUELCONSUMPTION_COMB  FUELCONSUMPTION_COMB_MPG  \\\n",
       "MODELYEAR                                  NaN                       NaN   \n",
       "ENGINESIZE                            0.819482                 -0.808554   \n",
       "CYLINDERS                             0.776788                 -0.770430   \n",
       "FUELCONSUMPTION_CITY                  0.995542                 -0.935613   \n",
       "FUELCONSUMPTION_HWY                   0.985804                 -0.893809   \n",
       "FUELCONSUMPTION_COMB                  1.000000                 -0.927965   \n",
       "FUELCONSUMPTION_COMB_MPG             -0.927965                  1.000000   \n",
       "CO2EMISSIONS                          0.892129                 -0.906394   \n",
       "\n",
       "                          CO2EMISSIONS  \n",
       "MODELYEAR                          NaN  \n",
       "ENGINESIZE                    0.874154  \n",
       "CYLINDERS                     0.849685  \n",
       "FUELCONSUMPTION_CITY          0.898039  \n",
       "FUELCONSUMPTION_HWY           0.861748  \n",
       "FUELCONSUMPTION_COMB          0.892129  \n",
       "FUELCONSUMPTION_COMB_MPG     -0.906394  \n",
       "CO2EMISSIONS                  1.000000  "
      ]
     },
     "execution_count": 51,
     "metadata": {},
     "output_type": "execute_result"
    }
   ],
   "source": [
    "df.corr()"
   ]
  },
  {
   "cell_type": "markdown",
   "metadata": {},
   "source": [
    "## Polynomial Regression"
   ]
  },
  {
   "cell_type": "code",
   "execution_count": 54,
   "metadata": {},
   "outputs": [
    {
     "name": "stdout",
     "output_type": "stream",
     "text": [
      "<class 'pandas.core.frame.DataFrame'>\n",
      "RangeIndex: 6 entries, 0 to 5\n",
      "Data columns (total 3 columns):\n",
      " #   Column       Non-Null Count  Dtype  \n",
      "---  ------       --------------  -----  \n",
      " 0   sno          6 non-null      int64  \n",
      " 1   Temperature  6 non-null      int64  \n",
      " 2   Pressure     6 non-null      float64\n",
      "dtypes: float64(1), int64(2)\n",
      "memory usage: 272.0 bytes\n"
     ]
    }
   ],
   "source": [
    "import pandas as pd\n",
    "df=pd.read_csv(\"polylinearregression.csv\")\n",
    "df.info()"
   ]
  },
  {
   "cell_type": "code",
   "execution_count": 55,
   "metadata": {},
   "outputs": [
    {
     "data": {
      "text/html": [
       "<div>\n",
       "<style scoped>\n",
       "    .dataframe tbody tr th:only-of-type {\n",
       "        vertical-align: middle;\n",
       "    }\n",
       "\n",
       "    .dataframe tbody tr th {\n",
       "        vertical-align: top;\n",
       "    }\n",
       "\n",
       "    .dataframe thead th {\n",
       "        text-align: right;\n",
       "    }\n",
       "</style>\n",
       "<table border=\"1\" class=\"dataframe\">\n",
       "  <thead>\n",
       "    <tr style=\"text-align: right;\">\n",
       "      <th></th>\n",
       "      <th>sno</th>\n",
       "      <th>Temperature</th>\n",
       "      <th>Pressure</th>\n",
       "    </tr>\n",
       "  </thead>\n",
       "  <tbody>\n",
       "    <tr>\n",
       "      <th>0</th>\n",
       "      <td>1</td>\n",
       "      <td>0</td>\n",
       "      <td>0.0002</td>\n",
       "    </tr>\n",
       "    <tr>\n",
       "      <th>1</th>\n",
       "      <td>2</td>\n",
       "      <td>20</td>\n",
       "      <td>0.0012</td>\n",
       "    </tr>\n",
       "    <tr>\n",
       "      <th>2</th>\n",
       "      <td>3</td>\n",
       "      <td>40</td>\n",
       "      <td>0.0060</td>\n",
       "    </tr>\n",
       "    <tr>\n",
       "      <th>3</th>\n",
       "      <td>4</td>\n",
       "      <td>60</td>\n",
       "      <td>0.0300</td>\n",
       "    </tr>\n",
       "    <tr>\n",
       "      <th>4</th>\n",
       "      <td>5</td>\n",
       "      <td>80</td>\n",
       "      <td>0.0900</td>\n",
       "    </tr>\n",
       "    <tr>\n",
       "      <th>5</th>\n",
       "      <td>6</td>\n",
       "      <td>100</td>\n",
       "      <td>0.2700</td>\n",
       "    </tr>\n",
       "  </tbody>\n",
       "</table>\n",
       "</div>"
      ],
      "text/plain": [
       "   sno  Temperature  Pressure\n",
       "0    1            0    0.0002\n",
       "1    2           20    0.0012\n",
       "2    3           40    0.0060\n",
       "3    4           60    0.0300\n",
       "4    5           80    0.0900\n",
       "5    6          100    0.2700"
      ]
     },
     "execution_count": 55,
     "metadata": {},
     "output_type": "execute_result"
    }
   ],
   "source": [
    "df"
   ]
  },
  {
   "cell_type": "code",
   "execution_count": 56,
   "metadata": {},
   "outputs": [
    {
     "name": "stdout",
     "output_type": "stream",
     "text": [
      "(6,)\n",
      "(6, 1)\n"
     ]
    }
   ],
   "source": [
    "x=df.iloc[:,1:2]\n",
    "y=df.iloc[:,2]\n",
    "print(y.shape)\n",
    "print(x.shape)"
   ]
  },
  {
   "cell_type": "code",
   "execution_count": 57,
   "metadata": {},
   "outputs": [
    {
     "data": {
      "text/plain": [
       "LinearRegression()"
      ]
     },
     "execution_count": 57,
     "metadata": {},
     "output_type": "execute_result"
    }
   ],
   "source": [
    "from sklearn.linear_model import LinearRegression\n",
    "from sklearn.preprocessing import PolynomialFeatures\n",
    "\n",
    "poly=PolynomialFeatures(degree=2)\n",
    "model_poly=poly.fit_transform(x)\n",
    "lr=LinearRegression()\n",
    "lr.fit(model_poly,y)"
   ]
  },
  {
   "cell_type": "code",
   "execution_count": 58,
   "metadata": {},
   "outputs": [
    {
     "data": {
      "text/plain": [
       "array([ 0.01555, -0.01731, -0.01032,  0.03652,  0.12321,  0.24975])"
      ]
     },
     "execution_count": 58,
     "metadata": {},
     "output_type": "execute_result"
    }
   ],
   "source": [
    "y_pred=lr.predict(model_poly)\n",
    "y_pred"
   ]
  },
  {
   "cell_type": "code",
   "execution_count": 59,
   "metadata": {},
   "outputs": [
    {
     "data": {
      "image/png": "[encoded data removed]",
      "text/plain": [
       "<Figure size 432x288 with 1 Axes>"
      ]
     },
     "metadata": {
      "needs_background": "light"
     },
     "output_type": "display_data"
    }
   ],
   "source": [
    "import matplotlib.pyplot as plt\n",
    "import numpy as np\n",
    "\n",
    "plt.scatter(x,y,color='blue')\n",
    "plt.plot(x,y_pred,color='red')\n",
    "plt.xlabel(\"temperature\")\n",
    "plt.ylabel(\"pressure\")\n",
    "plt.title(\"polynomial regression\")\n",
    "plt.show()"
   ]
  },
  {
   "cell_type": "code",
   "execution_count": 60,
   "metadata": {},
   "outputs": [
    {
     "name": "stdout",
     "output_type": "stream",
     "text": [
      "MSE:  0.00040001033333333344\n",
      "R2 score:  0.9568461098911795\n",
      "RMSE:  0.020000258331664956\n"
     ]
    }
   ],
   "source": [
    "from sklearn import metrics\n",
    "print(\"MSE: \",metrics.mean_squared_error(y,y_pred))\n",
    "print(\"R2 score: \",metrics.r2_score(y,y_pred))\n",
    "test_rmse=np.sqrt(metrics.mean_squared_error(y,y_pred))\n",
    "print(\"RMSE: \",test_rmse)"
   ]
  },
  {
   "cell_type": "code",
   "execution_count": 61,
   "metadata": {},
   "outputs": [
    {
     "data": {
      "text/plain": [
       "LinearRegression()"
      ]
     },
     "execution_count": 61,
     "metadata": {},
     "output_type": "execute_result"
    }
   ],
   "source": [
    "from sklearn.linear_model import LinearRegression\n",
    "from sklearn.preprocessing import PolynomialFeatures\n",
    "\n",
    "poly=PolynomialFeatures(degree=3)\n",
    "model_poly=poly.fit_transform(x)\n",
    "lr=LinearRegression()\n",
    "lr.fit(model_poly,y)"
   ]
  },
  {
   "cell_type": "code",
   "execution_count": 62,
   "metadata": {},
   "outputs": [
    {
     "data": {
      "text/plain": [
       "array([-0.00198889,  0.00724444,  0.00371111,  0.02248889,  0.09865556,\n",
       "        0.26728889])"
      ]
     },
     "execution_count": 62,
     "metadata": {},
     "output_type": "execute_result"
    }
   ],
   "source": [
    "y_pred=lr.predict(model_poly)\n",
    "y_pred"
   ]
  },
  {
   "cell_type": "code",
   "execution_count": 63,
   "metadata": {},
   "outputs": [
    {
     "data": {
      "image/png": "[encoded data removed]",
      "text/plain": [
       "<Figure size 432x288 with 1 Axes>"
      ]
     },
     "metadata": {
      "needs_background": "light"
     },
     "output_type": "display_data"
    }
   ],
   "source": [
    "import matplotlib.pyplot as plt\n",
    "import numpy as np\n",
    "\n",
    "plt.scatter(x,y,color='blue')\n",
    "plt.plot(x,y_pred,color='red')\n",
    "plt.xlabel(\"temperature\")\n",
    "plt.ylabel(\"pressure\")\n",
    "plt.title(\"polynomial regression\")\n",
    "plt.show()"
   ]
  },
  {
   "cell_type": "code",
   "execution_count": 64,
   "metadata": {},
   "outputs": [
    {
     "name": "stdout",
     "output_type": "stream",
     "text": [
      "MSE:  3.0875185185185266e-05\n",
      "R2 score:  0.9966691251761722\n",
      "RMSE:  0.005556544356449003\n"
     ]
    }
   ],
   "source": [
    "from sklearn import metrics\n",
    "print(\"MSE: \",metrics.mean_squared_error(y,y_pred))\n",
    "print(\"R2 score: \",metrics.r2_score(y,y_pred))\n",
    "test_rmse=np.sqrt(metrics.mean_squared_error(y,y_pred))\n",
    "print(\"RMSE: \",test_rmse)"
   ]
  },
  {
   "cell_type": "code",
   "execution_count": 65,
   "metadata": {},
   "outputs": [
    {
     "data": {
      "text/plain": [
       "array([ 4.61111118e-04, -1.05555554e-04,  8.61111111e-03,  2.73888889e-02,\n",
       "        9.13055556e-02,  2.69738889e-01])"
      ]
     },
     "execution_count": 65,
     "metadata": {},
     "output_type": "execute_result"
    }
   ],
   "source": [
    "from sklearn.linear_model import LinearRegression\n",
    "from sklearn.preprocessing import PolynomialFeatures\n",
    "\n",
    "poly=PolynomialFeatures(degree=4)\n",
    "model_poly=poly.fit_transform(x)\n",
    "lr=LinearRegression()\n",
    "lr.fit(model_poly,y)\n",
    "\n",
    "y_pred=lr.predict(model_poly)\n",
    "y_pred"
   ]
  },
  {
   "cell_type": "code",
   "execution_count": 66,
   "metadata": {},
   "outputs": [
    {
     "data": {
      "image/png": "[encoded data removed]",
      "text/plain": [
       "<Figure size 432x288 with 1 Axes>"
      ]
     },
     "metadata": {
      "needs_background": "light"
     },
     "output_type": "display_data"
    }
   ],
   "source": [
    "import matplotlib.pyplot as plt\n",
    "import numpy as np\n",
    "\n",
    "plt.scatter(x,y,color='blue')\n",
    "plt.plot(x,y_pred,color='red')\n",
    "plt.xlabel(\"temperature\")\n",
    "plt.ylabel(\"pressure\")\n",
    "plt.title(\"polynomial regression\")\n",
    "plt.show()"
   ]
  },
  {
   "cell_type": "code",
   "execution_count": 67,
   "metadata": {},
   "outputs": [
    {
     "name": "stdout",
     "output_type": "stream",
     "text": [
      "MSE:  2.8635185185184793e-06\n",
      "R2 score:  0.9996910780718014\n",
      "RMSE:  0.001692193404584263\n"
     ]
    }
   ],
   "source": [
    "from sklearn import metrics\n",
    "print(\"MSE: \",metrics.mean_squared_error(y,y_pred))\n",
    "print(\"R2 score: \",metrics.r2_score(y,y_pred))\n",
    "test_rmse=np.sqrt(metrics.mean_squared_error(y,y_pred))\n",
    "print(\"RMSE: \",test_rmse)"
   ]
  },
  {
   "cell_type": "code",
   "execution_count": null,
   "metadata": {},
   "outputs": [],
   "source": []
  }
 ],
 "metadata": {
  "kernelspec": {
   "display_name": "Python 3",
   "language": "python",
   "name": "python3"
  },
  "language_info": {
   "codemirror_mode": {
    "name": "ipython",
    "version": 3
   },
   "file_extension": ".py",
   "mimetype": "text/x-python",
   "name": "python",
   "nbconvert_exporter": "python",
   "pygments_lexer": "ipython3",
   "version": "3.8.5"
  }
 },
 "nbformat": 4,
 "nbformat_minor": 4
}
