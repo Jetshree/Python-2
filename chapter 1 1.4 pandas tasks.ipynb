{
 "cells": [
  {
   "cell_type": "code",
   "execution_count": 1,
   "metadata": {},
   "outputs": [
    {
     "data": {
      "text/html": [
       "<div>\n",
       "<style scoped>\n",
       "    .dataframe tbody tr th:only-of-type {\n",
       "        vertical-align: middle;\n",
       "    }\n",
       "\n",
       "    .dataframe tbody tr th {\n",
       "        vertical-align: top;\n",
       "    }\n",
       "\n",
       "    .dataframe thead th {\n",
       "        text-align: right;\n",
       "    }\n",
       "</style>\n",
       "<table border=\"1\" class=\"dataframe\">\n",
       "  <thead>\n",
       "    <tr style=\"text-align: right;\">\n",
       "      <th></th>\n",
       "      <th>movie</th>\n",
       "      <th>lead</th>\n",
       "    </tr>\n",
       "  </thead>\n",
       "  <tbody>\n",
       "    <tr>\n",
       "      <th>0</th>\n",
       "      <td>Uri: The Surgical Strike</td>\n",
       "      <td>Vicky Kaushal</td>\n",
       "    </tr>\n",
       "    <tr>\n",
       "      <th>86</th>\n",
       "      <td>Love per Square Foot</td>\n",
       "      <td>Vicky Kaushal</td>\n",
       "    </tr>\n",
       "  </tbody>\n",
       "</table>\n",
       "</div>"
      ],
      "text/plain": [
       "                       movie           lead\n",
       "0   Uri: The Surgical Strike  Vicky Kaushal\n",
       "86      Love per Square Foot  Vicky Kaushal"
      ]
     },
     "execution_count": 1,
     "metadata": {},
     "output_type": "execute_result"
    }
   ],
   "source": [
    "import pandas as pd\n",
    "\n",
    "bwd=pd.read_csv(\"bollywood.csv\")\n",
    "bwd[bwd['lead']==\"Vicky Kaushal\"]"
   ]
  },
  {
   "cell_type": "code",
   "execution_count": 2,
   "metadata": {},
   "outputs": [
    {
     "name": "stdout",
     "output_type": "stream",
     "text": [
      "                                     movie              lead\n",
      "0                 Uri: The Surgical Strike     Vicky Kaushal\n",
      "1                            Battalion 609       Vicky Ahuja\n",
      "2     The Accidental Prime Minister (film)       Anupam Kher\n",
      "3                          Why Cheat India     Emraan Hashmi\n",
      "4                          Evening Shadows  Mona Ambegaonkar\n",
      "...                                    ...               ...\n",
      "1495                Hum Tumhare Hain Sanam    Shah Rukh Khan\n",
      "1496                   Aankhen (2002 film)  Amitabh Bachchan\n",
      "1497                       Saathiya (film)      Vivek Oberoi\n",
      "1498                        Company (film)        Ajay Devgn\n",
      "1499                  Awara Paagal Deewana      Akshay Kumar\n",
      "\n",
      "[1500 rows x 2 columns]\n"
     ]
    }
   ],
   "source": [
    "print(bwd)"
   ]
  },
  {
   "cell_type": "code",
   "execution_count": 4,
   "metadata": {},
   "outputs": [
    {
     "data": {
      "text/plain": [
       "1494    Amitabh Bachchan\n",
       "Name: lead, dtype: object"
      ]
     },
     "execution_count": 4,
     "metadata": {},
     "output_type": "execute_result"
    }
   ],
   "source": [
    "bwd[bwd['movie']=='Kaante']['lead']"
   ]
  },
  {
   "cell_type": "code",
   "execution_count": 5,
   "metadata": {},
   "outputs": [
    {
     "name": "stdout",
     "output_type": "stream",
     "text": [
      "                                   title_x     imdb_id  \\\n",
      "0                 Uri: The Surgical Strike   tt8291224   \n",
      "1                            Battalion 609   tt9472208   \n",
      "2     The Accidental Prime Minister (film)   tt6986710   \n",
      "3                          Why Cheat India   tt8108208   \n",
      "4                          Evening Shadows   tt6028796   \n",
      "...                                    ...         ...   \n",
      "1624                 Tera Mera Saath Rahen   tt0301250   \n",
      "1625                  Yeh Zindagi Ka Safar   tt0298607   \n",
      "1626                       Sabse Bada Sukh   tt0069204   \n",
      "1627                                 Daaka  tt10833860   \n",
      "1628                              Humsafar   tt2403201   \n",
      "\n",
      "                                            poster_path  \\\n",
      "0     https://upload.wikimedia.org/wikipedia/en/thum...   \n",
      "1                                                   NaN   \n",
      "2     https://upload.wikimedia.org/wikipedia/en/thum...   \n",
      "3     https://upload.wikimedia.org/wikipedia/en/thum...   \n",
      "4                                                   NaN   \n",
      "...                                                 ...   \n",
      "1624  https://upload.wikimedia.org/wikipedia/en/2/2b...   \n",
      "1625  https://upload.wikimedia.org/wikipedia/en/thum...   \n",
      "1626                                                NaN   \n",
      "1627  https://upload.wikimedia.org/wikipedia/en/thum...   \n",
      "1628  https://upload.wikimedia.org/wikipedia/en/thum...   \n",
      "\n",
      "                                              wiki_link  \\\n",
      "0     https://en.wikipedia.org/wiki/Uri:_The_Surgica...   \n",
      "1           https://en.wikipedia.org/wiki/Battalion_609   \n",
      "2     https://en.wikipedia.org/wiki/The_Accidental_P...   \n",
      "3         https://en.wikipedia.org/wiki/Why_Cheat_India   \n",
      "4         https://en.wikipedia.org/wiki/Evening_Shadows   \n",
      "...                                                 ...   \n",
      "1624  https://en.wikipedia.org/wiki/Tera_Mera_Saath_...   \n",
      "1625  https://en.wikipedia.org/wiki/Yeh_Zindagi_Ka_S...   \n",
      "1626      https://en.wikipedia.org/wiki/Sabse_Bada_Sukh   \n",
      "1627                https://en.wikipedia.org/wiki/Daaka   \n",
      "1628             https://en.wikipedia.org/wiki/Humsafar   \n",
      "\n",
      "                            title_y                 original_title  is_adult  \\\n",
      "0          Uri: The Surgical Strike       Uri: The Surgical Strike         0   \n",
      "1                     Battalion 609                  Battalion 609         0   \n",
      "2     The Accidental Prime Minister  The Accidental Prime Minister         0   \n",
      "3                   Why Cheat India                Why Cheat India         0   \n",
      "4                   Evening Shadows                Evening Shadows         0   \n",
      "...                             ...                            ...       ...   \n",
      "1624          Tera Mera Saath Rahen          Tera Mera Saath Rahen         0   \n",
      "1625           Yeh Zindagi Ka Safar           Yeh Zindagi Ka Safar         0   \n",
      "1626                Sabse Bada Sukh                Sabse Bada Sukh         0   \n",
      "1627                          Daaka                          Daaka         0   \n",
      "1628                       Humsafar                       Humsafar         0   \n",
      "\n",
      "      year_of_release runtime            genres  imdb_rating  imdb_votes  \\\n",
      "0                2019     138  Action|Drama|War          8.4       35112   \n",
      "1                2019     131               War          4.1          73   \n",
      "2                2019     112   Biography|Drama          6.1        5549   \n",
      "3                2019     121       Crime|Drama          6.0        1891   \n",
      "4                2018     102             Drama          7.3         280   \n",
      "...               ...     ...               ...          ...         ...   \n",
      "1624             2001     148             Drama          4.9         278   \n",
      "1625             2001     146             Drama          3.0         133   \n",
      "1626             2018      \\N      Comedy|Drama          6.1          13   \n",
      "1627             2019     136            Action          7.4          38   \n",
      "1628             2011      35     Drama|Romance          9.0        2968   \n",
      "\n",
      "                                                  story  \\\n",
      "0     Divided over five chapters  the film chronicle...   \n",
      "1     The story revolves around a cricket match betw...   \n",
      "2     Based on the memoir by Indian policy analyst S...   \n",
      "3     The movie focuses on existing malpractices in ...   \n",
      "4     While gay rights and marriage equality has bee...   \n",
      "...                                                 ...   \n",
      "1624  Raj Dixit lives with his younger brother  Rahu...   \n",
      "1625  Hindi pop-star  Sarina Devan  lives a wealthy ...   \n",
      "1626  Village born Lalloo re-locates to Bombay  and ...   \n",
      "1627  Shinda tries robbing a bank so he can be wealt...   \n",
      "1628  Sara and Ashar are childhood friends who share...   \n",
      "\n",
      "                                                summary tagline  \\\n",
      "0     Indian army special forces execute a covert op...     NaN   \n",
      "1     The story of Battalion 609 revolves around a c...     NaN   \n",
      "2     Explores Manmohan Singh's tenure as the Prime ...     NaN   \n",
      "3     The movie focuses on existing malpractices in ...     NaN   \n",
      "4     Under the 'Evening Shadows'  truth often plays...     NaN   \n",
      "...                                                 ...     ...   \n",
      "1624  A man is torn between his handicapped brother ...     NaN   \n",
      "1625  A singer finds out she was adopted when the ed...     NaN   \n",
      "1626  Village born Lalloo re-locates to Bombay  and ...     NaN   \n",
      "1627  Shinda tries robbing a bank so he can be wealt...     NaN   \n",
      "1628  Ashar and Khirad are forced to get married due...     NaN   \n",
      "\n",
      "                                                 actors  \\\n",
      "0     Vicky Kaushal|Paresh Rawal|Mohit Raina|Yami Ga...   \n",
      "1     Vicky Ahuja|Shoaib Ibrahim|Shrikant Kamat|Elen...   \n",
      "2     Anupam Kher|Akshaye Khanna|Aahana Kumra|Atul S...   \n",
      "3     Emraan Hashmi|Shreya Dhanwanthary|Snighdadeep ...   \n",
      "4     Mona Ambegaonkar|Ananth Narayan Mahadevan|Deva...   \n",
      "...                                                 ...   \n",
      "1624  Ajay Devgn|Sonali Bendre|Namrata Shirodkar|Pre...   \n",
      "1625  Ameesha Patel|Jimmy Sheirgill|Nafisa Ali|Gulsh...   \n",
      "1626  Vijay Arora|Asrani|Rajni Bala|Kumud Damle|Utpa...   \n",
      "1627                          Gippy Grewal|Zareen Khan|   \n",
      "1628                                        Fawad Khan|   \n",
      "\n",
      "            wins_nominations              release_date  \n",
      "0                     4 wins     11 January 2019 (USA)  \n",
      "1                        NaN   11 January 2019 (India)  \n",
      "2                        NaN     11 January 2019 (USA)  \n",
      "3                        NaN     18 January 2019 (USA)  \n",
      "4     17 wins & 1 nomination   11 January 2019 (India)  \n",
      "...                      ...                       ...  \n",
      "1624                     NaN   7 November 2001 (India)  \n",
      "1625                     NaN  16 November 2001 (India)  \n",
      "1626                     NaN                       NaN  \n",
      "1627                     NaN     1 November 2019 (USA)  \n",
      "1628                     NaN     TV Series (2011–2012)  \n",
      "\n",
      "[1629 rows x 18 columns]\n"
     ]
    }
   ],
   "source": [
    "import pandas as pd\n",
    "mov=pd.read_csv(\"movies.csv\")\n",
    "print(mov)"
   ]
  },
  {
   "cell_type": "code",
   "execution_count": 11,
   "metadata": {},
   "outputs": [
    {
     "name": "stdout",
     "output_type": "stream",
     "text": [
      "75\n"
     ]
    }
   ],
   "source": [
    "# 2019 ma release thayeli movie ni list\n",
    "\n",
    "# rel=mov[mov['year_of_release']==2019].count()\n",
    "rel=mov[mov['year_of_release']==2019].shape[0]\n",
    "print(rel)"
   ]
  },
  {
   "cell_type": "code",
   "execution_count": 6,
   "metadata": {},
   "outputs": [
    {
     "name": "stdout",
     "output_type": "stream",
     "text": [
      "<class 'pandas.core.frame.DataFrame'>\n",
      "RangeIndex: 1629 entries, 0 to 1628\n",
      "Data columns (total 18 columns):\n",
      " #   Column            Non-Null Count  Dtype  \n",
      "---  ------            --------------  -----  \n",
      " 0   title_x           1629 non-null   object \n",
      " 1   imdb_id           1629 non-null   object \n",
      " 2   poster_path       1526 non-null   object \n",
      " 3   wiki_link         1629 non-null   object \n",
      " 4   title_y           1629 non-null   object \n",
      " 5   original_title    1629 non-null   object \n",
      " 6   is_adult          1629 non-null   int64  \n",
      " 7   year_of_release   1629 non-null   int64  \n",
      " 8   runtime           1629 non-null   object \n",
      " 9   genres            1629 non-null   object \n",
      " 10  imdb_rating       1629 non-null   float64\n",
      " 11  imdb_votes        1629 non-null   int64  \n",
      " 12  story             1609 non-null   object \n",
      " 13  summary           1629 non-null   object \n",
      " 14  tagline           557 non-null    object \n",
      " 15  actors            1624 non-null   object \n",
      " 16  wins_nominations  707 non-null    object \n",
      " 17  release_date      1522 non-null   object \n",
      "dtypes: float64(1), int64(3), object(14)\n",
      "memory usage: 229.2+ KB\n"
     ]
    }
   ],
   "source": [
    "mov.info()"
   ]
  },
  {
   "cell_type": "code",
   "execution_count": 17,
   "metadata": {},
   "outputs": [
    {
     "name": "stdout",
     "output_type": "stream",
     "text": [
      "73\n"
     ]
    }
   ],
   "source": [
    "# movies released in 2019\n",
    "\n",
    "# rel=mov[mov['year_of_release']==2019].shape[0] & mov[mov['imdb_rating']>=7].shape[0]\n",
    "# print(rel)"
   ]
  },
  {
   "cell_type": "code",
   "execution_count": 19,
   "metadata": {},
   "outputs": [
    {
     "name": "stdout",
     "output_type": "stream",
     "text": [
      "27\n"
     ]
    }
   ],
   "source": [
    "# movies released in 2019\n",
    "\n",
    "rel=mov[(mov['year_of_release']==2019) & (mov['imdb_rating']>=7)].shape[0]\n",
    "print(rel)"
   ]
  },
  {
   "cell_type": "code",
   "execution_count": 21,
   "metadata": {},
   "outputs": [
    {
     "name": "stdout",
     "output_type": "stream",
     "text": [
      "original_title    105\n",
      "story             105\n",
      "wiki_link         105\n",
      "dtype: int64\n"
     ]
    }
   ],
   "source": [
    "# bwd[bwd['movie']=='Kaante']['lead']\n",
    "\n",
    "vt=mov[mov['imdb_votes']>20000][['original_title','story','wiki_link']].count()\n",
    "\n",
    "print(vt)"
   ]
  },
  {
   "cell_type": "code",
   "execution_count": 23,
   "metadata": {},
   "outputs": [
    {
     "name": "stdout",
     "output_type": "stream",
     "text": [
      "                         original_title  \\\n",
      "0              Uri: The Surgical Strike   \n",
      "11                            Gully Boy   \n",
      "36                          Kabir Singh   \n",
      "74                          Dil Bechara   \n",
      "88                            Padmaavat   \n",
      "...                                 ...   \n",
      "1490                             Devdas   \n",
      "1565        Kabhi Khushi Kabhie Gham...   \n",
      "1567  Lagaan: Once Upon a Time in India   \n",
      "1568  Lagaan: Once Upon a Time in India   \n",
      "1571                     Dil Chahta Hai   \n",
      "\n",
      "                                                  story  \\\n",
      "0     Divided over five chapters  the film chronicle...   \n",
      "11    Gully Boy is a film about a 22-year-old boy \"M...   \n",
      "36    This Sandeep Vanga directorial is a remake of ...   \n",
      "74              A love story about two cancer patients.   \n",
      "88    This fictional story is set in 13th century me...   \n",
      "...                                                 ...   \n",
      "1490  Devdas Mukherji is black-listed by his multi-m...   \n",
      "1565  Yashvardhan Raichand lives a very wealthy life...   \n",
      "1567  This is the story about the resilience shown b...   \n",
      "1568  This is the story about the resilience shown b...   \n",
      "1571  Three young men Akash  Sameer  and Siddharth a...   \n",
      "\n",
      "                                              wiki_link  \n",
      "0     https://en.wikipedia.org/wiki/Uri:_The_Surgica...  \n",
      "11              https://en.wikipedia.org/wiki/Gully_Boy  \n",
      "36            https://en.wikipedia.org/wiki/Kabir_Singh  \n",
      "74            https://en.wikipedia.org/wiki/Dil_Bechara  \n",
      "88              https://en.wikipedia.org/wiki/Padmaavat  \n",
      "...                                                 ...  \n",
      "1490  https://en.wikipedia.org/wiki/Devdas_(2002_Hin...  \n",
      "1565  https://en.wikipedia.org/wiki/Kabhi_Khushi_Kab...  \n",
      "1567               https://en.wikipedia.org/wiki/Lagaan  \n",
      "1568  https://en.wikipedia.org/wiki/Lagaan:_Once_Upo...  \n",
      "1571       https://en.wikipedia.org/wiki/Dil_Chahta_Hai  \n",
      "\n",
      "[105 rows x 3 columns]\n"
     ]
    }
   ],
   "source": [
    "# bwd[bwd['movie']=='Kaante']['lead']\n",
    "\n",
    "vt1=mov[mov['imdb_votes']>20000][['original_title','story','wiki_link']]\n",
    "\n",
    "print(vt1)\n",
    "vt1.to_csv('mydata.csv',index=False)"
   ]
  },
  {
   "cell_type": "code",
   "execution_count": 32,
   "metadata": {},
   "outputs": [
    {
     "ename": "NameError",
     "evalue": "name 'title' is not defined",
     "output_type": "error",
     "traceback": [
      "\u001b[1;31m---------------------------------------------------------------------------\u001b[0m",
      "\u001b[1;31mNameError\u001b[0m                                 Traceback (most recent call last)",
      "\u001b[1;32m<ipython-input-32-a64acc7fee92>\u001b[0m in \u001b[0;36m<module>\u001b[1;34m\u001b[0m\n\u001b[0;32m      4\u001b[0m \u001b[1;33m\u001b[0m\u001b[0m\n\u001b[0;32m      5\u001b[0m \u001b[1;32mfor\u001b[0m \u001b[0mi\u001b[0m \u001b[1;32min\u001b[0m \u001b[0mrel\u001b[0m\u001b[1;33m:\u001b[0m\u001b[1;33m\u001b[0m\u001b[1;33m\u001b[0m\u001b[0m\n\u001b[1;32m----> 6\u001b[1;33m     \u001b[0mprint\u001b[0m\u001b[1;33m(\u001b[0m\u001b[0mmov\u001b[0m\u001b[1;33m[\u001b[0m\u001b[0mtitle\u001b[0m\u001b[1;33m]\u001b[0m\u001b[1;33m,\u001b[0m\u001b[1;34m\" : \"\u001b[0m\u001b[1;33m,\u001b[0m\u001b[0mmov\u001b[0m\u001b[1;33m[\u001b[0m\u001b[0mrelease_date\u001b[0m\u001b[1;33m]\u001b[0m\u001b[1;33m)\u001b[0m\u001b[1;33m\u001b[0m\u001b[1;33m\u001b[0m\u001b[0m\n\u001b[0m",
      "\u001b[1;31mNameError\u001b[0m: name 'title' is not defined"
     ]
    }
   ],
   "source": [
    "# 2019 me release hui movies ko aise print karao => movie : date\n",
    "\n",
    "rel=mov[mov['year_of_release']==2019]\n",
    "\n",
    "for i in rel:\n",
    "    print(mov[title],\" : \",mov[release_date])\n"
   ]
  },
  {
   "cell_type": "code",
   "execution_count": 34,
   "metadata": {},
   "outputs": [
    {
     "name": "stdout",
     "output_type": "stream",
     "text": [
      "Uri: The Surgical Strike  :  11 January 2019 (USA)\n",
      "Battalion 609  :  11 January 2019 (India)\n",
      "The Accidental Prime Minister  :  11 January 2019 (USA)\n",
      "Why Cheat India  :  18 January 2019 (USA)\n",
      "Fraud Saiyyan  :  18 January 2019 (India)\n",
      "Bombairiya  :  18 January 2019 (India)\n",
      "Manikarnika: The Queen of Jhansi  :  25 January 2019 (USA)\n",
      "Thackeray  :  25 January 2019 (India)\n",
      "Amavas  :  8 February 2019 (India)\n",
      "Gully Boy  :  14 February 2019 (USA)\n",
      "Hum chaar  :  15 February 2019 (India)\n",
      "Total Dhamaal  :  22 February 2019 (India)\n",
      "Sonchiriya  :  1 March 2019 (India)\n",
      "Badla  :  8 March 2019 (India)\n",
      "Photograph  :  17 May 2019 (USA)\n",
      "Risknamaa  :  15 March 2019 (India)\n",
      "22 Yards  :  15 March 2019 (India)\n",
      "Kesari  :  21 March 2019 (USA)\n",
      "Notebook  :  29 March 2019 (USA)\n",
      "Junglee  :  29 March 2019 (USA)\n",
      "Gone Kesh  :  29 March 2019 (India)\n",
      "Albert Pinto Ko Gussa Kyun Aata Hai?  :  12 April 2019 (India)\n",
      "The Tashkent Files  :  12 April 2019 (India)\n",
      "Kalank  :  17 April 2019 (USA)\n",
      "Setters  :  3 May 2019 (India)\n",
      "Student of the Year 2  :  10 May 2019 (USA)\n",
      "PM Narendra Modi  :  24 May 2019 (USA)\n",
      "De De Pyaar De  :  17 May 2019 (USA)\n",
      "India's Most Wanted  :  24 May 2019 (USA)\n",
      "Khamoshi  :  14 June 2019 (India)\n",
      "Kabir Singh  :  20 June 2019 (USA)\n",
      "Article 15  :  28 June 2019 (USA)\n",
      "One Day: Justice Delivered  :  5 July 2019 (India)\n",
      "Hume Tumse Pyaar Kitna  :  5 July 2019 (India)\n",
      "Super 30  :  12 July 2019 (USA)\n",
      "Family of Thakurganj  :  19 July 2019 (India)\n",
      "Batla House  :  15 August 2019 (USA)\n",
      "Jhootha Kahin Ka  :  19 July 2019 (India)\n",
      "Judgementall Hai Kya  :  26 July 2019 (USA)\n",
      "Chicken Curry Law  :  9 August 2019 (India)\n",
      "Arjun Patiala  :  26 July 2019 (USA)\n",
      "Jabariya Jodi  :  9 August 2019 (USA)\n",
      "Pranaam  :  nan\n",
      "The Sky Is Pink  :  11 October 2019 (USA)\n",
      "Mission Mangal  :  15 August 2019 (USA)\n",
      "Saaho  :  30 August 2019 (USA)\n",
      "Dream Girl  :  13 September 2019 (USA)\n",
      "Section 375  :  13 September 2019 (USA)\n",
      "The Zoya Factor  :  20 September 2019 (USA)\n",
      "Pal Pal Dil Ke Paas  :  20 September 2019 (USA)\n",
      "Prassthanam  :  20 September 2019 (USA)\n",
      "P Se Pyaar F Se Faraar  :  18 October 2019 (India)\n",
      "Ghost  :  18 October 2019 (India)\n",
      "Bala  :  7 November 2019 (USA)\n",
      "#Yaaram  :  nan\n",
      "Housefull 4  :  25 October 2019 (USA)\n",
      "Saand Ki Aankh  :  25 October 2019 (USA)\n",
      "Made in China  :  25 October 2019 (USA)\n",
      "Ujda Chaman  :  1 November 2019 (USA)\n",
      "Bypass Road  :  8 November 2019 (USA)\n",
      "Satellite Shankar  :  8 November 2019 (India)\n",
      "Jhalki  :  nan\n",
      "Marjaavaan  :  15 November 2019 (USA)\n",
      "Motichoor Chaknachoor  :  15 November 2019 (USA)\n",
      "Keep Safe Distance  :  nan\n",
      "Pagalpanti  :  nan\n",
      "Ramprasad Ki Tehrvi  :  nan\n",
      "Yeh Saali Aashiqui  :  nan\n",
      "Dil Bechara  :  nan\n",
      "Pati Patni Aur Woh  :  nan\n",
      "Commando 3  :  nan\n",
      "Mardaani 2  :  nan\n",
      "Dabangg 3  :  nan\n",
      "Good Newwz  :  nan\n",
      "Daaka  :  1 November 2019 (USA)\n"
     ]
    }
   ],
   "source": [
    "release=mov[mov['year_of_release']==2019]\n",
    "release=release.reset_index(drop=True)\n",
    "j=0\n",
    "for i in release['original_title']:\n",
    "    print(i,\" : \",release['release_date'][j])\n",
    "    j+=1"
   ]
  },
  {
   "cell_type": "code",
   "execution_count": 39,
   "metadata": {},
   "outputs": [
    {
     "data": {
      "text/plain": [
       "match_no\n",
       "160     84\n",
       "178     90\n",
       "145     92\n",
       "81      93\n",
       "82      99\n",
       "164    100\n",
       "120    100\n",
       "123    108\n",
       "126    109\n",
       "128    113\n",
       "Name: runs, dtype: int64"
      ]
     },
     "execution_count": 39,
     "metadata": {},
     "output_type": "execute_result"
    }
   ],
   "source": [
    "import pandas as pd\n",
    "\n",
    "khl=pd.read_csv(\"kohli_ipl.csv\",index_col='match_no',squeeze=True)\n",
    "khl=khl.sort_values(ascending=True)\n",
    "khl.tail(10)"
   ]
  },
  {
   "cell_type": "code",
   "execution_count": 38,
   "metadata": {},
   "outputs": [
    {
     "data": {
      "text/plain": [
       "match_no\n",
       "87     0\n",
       "211    0\n",
       "207    0\n",
       "206    0\n",
       "91     0\n",
       "93     0\n",
       "8      0\n",
       "130    0\n",
       "135    0\n",
       "106    1\n",
       "Name: runs, dtype: int64"
      ]
     },
     "execution_count": 38,
     "metadata": {},
     "output_type": "execute_result"
    }
   ],
   "source": [
    "import pandas as pd\n",
    "\n",
    "khl=pd.read_csv(\"kohli_ipl.csv\",index_col='match_no',squeeze=True)\n",
    "khl=khl.sort_values(ascending=True)\n",
    "khl.head(10)"
   ]
  },
  {
   "cell_type": "code",
   "execution_count": 44,
   "metadata": {},
   "outputs": [
    {
     "data": {
      "text/plain": [
       "match_no\n",
       "145    92\n",
       "81     93\n",
       "82     99\n",
       "Name: runs, dtype: int64"
      ]
     },
     "execution_count": 44,
     "metadata": {},
     "output_type": "execute_result"
    }
   ],
   "source": [
    "khl[(khl.values>90) & (khl.values<100)]"
   ]
  },
  {
   "cell_type": "code",
   "execution_count": 45,
   "metadata": {},
   "outputs": [
    {
     "name": "stdout",
     "output_type": "stream",
     "text": [
      "<class 'pandas.core.frame.DataFrame'>\n",
      "RangeIndex: 950 entries, 0 to 949\n",
      "Data columns (total 20 columns):\n",
      " #   Column           Non-Null Count  Dtype  \n",
      "---  ------           --------------  -----  \n",
      " 0   ID               950 non-null    int64  \n",
      " 1   City             899 non-null    object \n",
      " 2   Date             950 non-null    object \n",
      " 3   Season           950 non-null    object \n",
      " 4   MatchNumber      950 non-null    object \n",
      " 5   Team1            950 non-null    object \n",
      " 6   Team2            950 non-null    object \n",
      " 7   Venue            950 non-null    object \n",
      " 8   TossWinner       950 non-null    object \n",
      " 9   TossDecision     950 non-null    object \n",
      " 10  SuperOver        946 non-null    object \n",
      " 11  WinningTeam      946 non-null    object \n",
      " 12  WonBy            950 non-null    object \n",
      " 13  Margin           932 non-null    float64\n",
      " 14  method           19 non-null     object \n",
      " 15  Player_of_Match  946 non-null    object \n",
      " 16  Team1Players     950 non-null    object \n",
      " 17  Team2Players     950 non-null    object \n",
      " 18  Umpire1          950 non-null    object \n",
      " 19  Umpire2          950 non-null    object \n",
      "dtypes: float64(1), int64(1), object(18)\n",
      "memory usage: 148.6+ KB\n"
     ]
    }
   ],
   "source": [
    "import pandas as pd \n",
    "\n",
    "ipl=pd.read_csv(\"ipl-matches.csv\")\n",
    "ipl.info()"
   ]
  },
  {
   "cell_type": "code",
   "execution_count": 49,
   "metadata": {},
   "outputs": [
    {
     "data": {
      "text/plain": [
       "14"
      ]
     },
     "execution_count": 49,
     "metadata": {},
     "output_type": "execute_result"
    }
   ],
   "source": [
    "# 1. how many matches were super over?\n",
    "\n",
    "ipl[ipl['SuperOver']=='Y'].shape[0]"
   ]
  },
  {
   "cell_type": "code",
   "execution_count": 51,
   "metadata": {},
   "outputs": [
    {
     "data": {
      "text/plain": [
       "489"
      ]
     },
     "execution_count": 51,
     "metadata": {},
     "output_type": "execute_result"
    }
   ],
   "source": [
    "# 2. how many matches won by toss winner of match\n",
    "\n",
    "ipl[ipl['TossWinner']==ipl['WinningTeam']].shape[0]"
   ]
  },
  {
   "cell_type": "code",
   "execution_count": 53,
   "metadata": {},
   "outputs": [
    {
     "data": {
      "text/html": [
       "<div>\n",
       "<style scoped>\n",
       "    .dataframe tbody tr th:only-of-type {\n",
       "        vertical-align: middle;\n",
       "    }\n",
       "\n",
       "    .dataframe tbody tr th {\n",
       "        vertical-align: top;\n",
       "    }\n",
       "\n",
       "    .dataframe thead th {\n",
       "        text-align: right;\n",
       "    }\n",
       "</style>\n",
       "<table border=\"1\" class=\"dataframe\">\n",
       "  <thead>\n",
       "    <tr style=\"text-align: right;\">\n",
       "      <th></th>\n",
       "      <th>ID</th>\n",
       "      <th>City</th>\n",
       "      <th>Date</th>\n",
       "      <th>Season</th>\n",
       "      <th>MatchNumber</th>\n",
       "      <th>Team1</th>\n",
       "      <th>Team2</th>\n",
       "      <th>Venue</th>\n",
       "      <th>TossWinner</th>\n",
       "      <th>TossDecision</th>\n",
       "      <th>SuperOver</th>\n",
       "      <th>WinningTeam</th>\n",
       "      <th>WonBy</th>\n",
       "      <th>Margin</th>\n",
       "      <th>method</th>\n",
       "      <th>Player_of_Match</th>\n",
       "      <th>Team1Players</th>\n",
       "      <th>Team2Players</th>\n",
       "      <th>Umpire1</th>\n",
       "      <th>Umpire2</th>\n",
       "    </tr>\n",
       "  </thead>\n",
       "  <tbody>\n",
       "    <tr>\n",
       "      <th>224</th>\n",
       "      <td>1178404</td>\n",
       "      <td>Kolkata</td>\n",
       "      <td>2019-04-14</td>\n",
       "      <td>2019</td>\n",
       "      <td>29</td>\n",
       "      <td>Kolkata Knight Riders</td>\n",
       "      <td>Chennai Super Kings</td>\n",
       "      <td>Eden Gardens</td>\n",
       "      <td>Chennai Super Kings</td>\n",
       "      <td>field</td>\n",
       "      <td>N</td>\n",
       "      <td>Chennai Super Kings</td>\n",
       "      <td>Wickets</td>\n",
       "      <td>5.0</td>\n",
       "      <td>NaN</td>\n",
       "      <td>Imran Tahir</td>\n",
       "      <td>['CA Lynn', 'SP Narine', 'N Rana', 'RV Uthappa...</td>\n",
       "      <td>['SR Watson', 'F du Plessis', 'SK Raina', 'AT ...</td>\n",
       "      <td>CK Nandan</td>\n",
       "      <td>RJ Tucker</td>\n",
       "    </tr>\n",
       "    <tr>\n",
       "      <th>602</th>\n",
       "      <td>598022</td>\n",
       "      <td>Kolkata</td>\n",
       "      <td>2013-04-20</td>\n",
       "      <td>2013</td>\n",
       "      <td>26</td>\n",
       "      <td>Kolkata Knight Riders</td>\n",
       "      <td>Chennai Super Kings</td>\n",
       "      <td>Eden Gardens</td>\n",
       "      <td>Kolkata Knight Riders</td>\n",
       "      <td>bat</td>\n",
       "      <td>N</td>\n",
       "      <td>Chennai Super Kings</td>\n",
       "      <td>Wickets</td>\n",
       "      <td>4.0</td>\n",
       "      <td>NaN</td>\n",
       "      <td>RA Jadeja</td>\n",
       "      <td>['G Gambhir', 'YK Pathan', 'JH Kallis', 'EJG M...</td>\n",
       "      <td>['MEK Hussey', 'R Ashwin', 'M Vijay', 'SK Rain...</td>\n",
       "      <td>Asad Rauf</td>\n",
       "      <td>AK Chaudhary</td>\n",
       "    </tr>\n",
       "    <tr>\n",
       "      <th>641</th>\n",
       "      <td>548368</td>\n",
       "      <td>Kolkata</td>\n",
       "      <td>2012-05-14</td>\n",
       "      <td>2012</td>\n",
       "      <td>63</td>\n",
       "      <td>Kolkata Knight Riders</td>\n",
       "      <td>Chennai Super Kings</td>\n",
       "      <td>Eden Gardens</td>\n",
       "      <td>Chennai Super Kings</td>\n",
       "      <td>field</td>\n",
       "      <td>N</td>\n",
       "      <td>Chennai Super Kings</td>\n",
       "      <td>Wickets</td>\n",
       "      <td>5.0</td>\n",
       "      <td>NaN</td>\n",
       "      <td>MEK Hussey</td>\n",
       "      <td>['G Gambhir', 'BB McCullum', 'JH Kallis', 'MK ...</td>\n",
       "      <td>['MEK Hussey', 'M Vijay', 'SK Raina', 'F du Pl...</td>\n",
       "      <td>JD Cloete</td>\n",
       "      <td>SJA Taufel</td>\n",
       "    </tr>\n",
       "    <tr>\n",
       "      <th>827</th>\n",
       "      <td>419113</td>\n",
       "      <td>Kolkata</td>\n",
       "      <td>2010-03-16</td>\n",
       "      <td>2009/10</td>\n",
       "      <td>8</td>\n",
       "      <td>Kolkata Knight Riders</td>\n",
       "      <td>Chennai Super Kings</td>\n",
       "      <td>Eden Gardens</td>\n",
       "      <td>Chennai Super Kings</td>\n",
       "      <td>bat</td>\n",
       "      <td>N</td>\n",
       "      <td>Chennai Super Kings</td>\n",
       "      <td>Runs</td>\n",
       "      <td>55.0</td>\n",
       "      <td>NaN</td>\n",
       "      <td>MS Dhoni</td>\n",
       "      <td>['BJ Hodge', 'MK Tiwary', 'SC Ganguly', 'WP Sa...</td>\n",
       "      <td>['M Vijay', 'ML Hayden', 'SK Raina', 'S Badrin...</td>\n",
       "      <td>HDPK Dharmasena</td>\n",
       "      <td>AM Saheba</td>\n",
       "    </tr>\n",
       "    <tr>\n",
       "      <th>908</th>\n",
       "      <td>336025</td>\n",
       "      <td>Kolkata</td>\n",
       "      <td>2008-05-18</td>\n",
       "      <td>2007/08</td>\n",
       "      <td>41</td>\n",
       "      <td>Kolkata Knight Riders</td>\n",
       "      <td>Chennai Super Kings</td>\n",
       "      <td>Eden Gardens</td>\n",
       "      <td>Kolkata Knight Riders</td>\n",
       "      <td>bat</td>\n",
       "      <td>N</td>\n",
       "      <td>Chennai Super Kings</td>\n",
       "      <td>Runs</td>\n",
       "      <td>3.0</td>\n",
       "      <td>D/L</td>\n",
       "      <td>M Ntini</td>\n",
       "      <td>['Salman Butt', 'Mohammad Hafeez', 'SC Ganguly...</td>\n",
       "      <td>['PA Patel', 'SP Fleming', 'S Vidyut', 'SK Rai...</td>\n",
       "      <td>Asad Rauf</td>\n",
       "      <td>K Hariharan</td>\n",
       "    </tr>\n",
       "  </tbody>\n",
       "</table>\n",
       "</div>"
      ],
      "text/plain": [
       "          ID     City        Date   Season MatchNumber                  Team1  \\\n",
       "224  1178404  Kolkata  2019-04-14     2019          29  Kolkata Knight Riders   \n",
       "602   598022  Kolkata  2013-04-20     2013          26  Kolkata Knight Riders   \n",
       "641   548368  Kolkata  2012-05-14     2012          63  Kolkata Knight Riders   \n",
       "827   419113  Kolkata  2010-03-16  2009/10           8  Kolkata Knight Riders   \n",
       "908   336025  Kolkata  2008-05-18  2007/08          41  Kolkata Knight Riders   \n",
       "\n",
       "                   Team2         Venue             TossWinner TossDecision  \\\n",
       "224  Chennai Super Kings  Eden Gardens    Chennai Super Kings        field   \n",
       "602  Chennai Super Kings  Eden Gardens  Kolkata Knight Riders          bat   \n",
       "641  Chennai Super Kings  Eden Gardens    Chennai Super Kings        field   \n",
       "827  Chennai Super Kings  Eden Gardens    Chennai Super Kings          bat   \n",
       "908  Chennai Super Kings  Eden Gardens  Kolkata Knight Riders          bat   \n",
       "\n",
       "    SuperOver          WinningTeam    WonBy  Margin method Player_of_Match  \\\n",
       "224         N  Chennai Super Kings  Wickets     5.0    NaN     Imran Tahir   \n",
       "602         N  Chennai Super Kings  Wickets     4.0    NaN       RA Jadeja   \n",
       "641         N  Chennai Super Kings  Wickets     5.0    NaN      MEK Hussey   \n",
       "827         N  Chennai Super Kings     Runs    55.0    NaN        MS Dhoni   \n",
       "908         N  Chennai Super Kings     Runs     3.0    D/L         M Ntini   \n",
       "\n",
       "                                          Team1Players  \\\n",
       "224  ['CA Lynn', 'SP Narine', 'N Rana', 'RV Uthappa...   \n",
       "602  ['G Gambhir', 'YK Pathan', 'JH Kallis', 'EJG M...   \n",
       "641  ['G Gambhir', 'BB McCullum', 'JH Kallis', 'MK ...   \n",
       "827  ['BJ Hodge', 'MK Tiwary', 'SC Ganguly', 'WP Sa...   \n",
       "908  ['Salman Butt', 'Mohammad Hafeez', 'SC Ganguly...   \n",
       "\n",
       "                                          Team2Players          Umpire1  \\\n",
       "224  ['SR Watson', 'F du Plessis', 'SK Raina', 'AT ...        CK Nandan   \n",
       "602  ['MEK Hussey', 'R Ashwin', 'M Vijay', 'SK Rain...        Asad Rauf   \n",
       "641  ['MEK Hussey', 'M Vijay', 'SK Raina', 'F du Pl...        JD Cloete   \n",
       "827  ['M Vijay', 'ML Hayden', 'SK Raina', 'S Badrin...  HDPK Dharmasena   \n",
       "908  ['PA Patel', 'SP Fleming', 'S Vidyut', 'SK Rai...        Asad Rauf   \n",
       "\n",
       "          Umpire2  \n",
       "224     RJ Tucker  \n",
       "602  AK Chaudhary  \n",
       "641    SJA Taufel  \n",
       "827     AM Saheba  \n",
       "908   K Hariharan  "
      ]
     },
     "execution_count": 53,
     "metadata": {},
     "output_type": "execute_result"
    }
   ],
   "source": [
    "# 3. how many matches csk at kolkata\n",
    "\n",
    "ipl[(ipl['WinningTeam']=='Chennai Super Kings') & (ipl['City']=='Kolkata')]"
   ]
  },
  {
   "cell_type": "code",
   "execution_count": 54,
   "metadata": {},
   "outputs": [
    {
     "data": {
      "text/plain": [
       "2"
      ]
     },
     "execution_count": 54,
     "metadata": {},
     "output_type": "execute_result"
    }
   ],
   "source": [
    "# in how many matches is HH Panya player of the match vs rajasthan royals\n",
    "\n",
    "ipl[(ipl['Player_of_Match']=='HH Pandya') & ((ipl['Team1']=='Rajasthan Royals') | (ipl['Team2']=='Rajasthan Royals'))].shape[0]"
   ]
  },
  {
   "cell_type": "code",
   "execution_count": 57,
   "metadata": {},
   "outputs": [
    {
     "data": {
      "text/plain": [
       "2"
      ]
     },
     "execution_count": 57,
     "metadata": {},
     "output_type": "execute_result"
    }
   ],
   "source": [
    "# in how many matches gujarat titans won the toss and elected to bat and won the match\n",
    "\n",
    "ipl[(ipl['WinningTeam']=='Gujarat Titans') & (ipl['TossWinner']=='Gujarat Titans') & (ipl['TossDecision']=='bat')].shape[0]"
   ]
  },
  {
   "cell_type": "code",
   "execution_count": 55,
   "metadata": {},
   "outputs": [
    {
     "data": {
      "text/plain": [
       "16"
      ]
     },
     "execution_count": 55,
     "metadata": {},
     "output_type": "execute_result"
    }
   ],
   "source": [
    "# how many matches gujarat titans played?\n",
    "\n",
    "ipl[(ipl['Team1']=='Gujarat Titans') | (ipl['Team2']=='Gujarat Titans')].shape[0]"
   ]
  },
  {
   "cell_type": "code",
   "execution_count": 56,
   "metadata": {},
   "outputs": [
    {
     "data": {
      "text/plain": [
       "0"
      ]
     },
     "execution_count": 56,
     "metadata": {},
     "output_type": "execute_result"
    }
   ],
   "source": [
    "#  how many matches won by gt in superover?\n",
    "\n",
    "ipl[(ipl['SuperOver']=='Y') & (ipl['WinningTeam']=='Gujarat Titans')].shape[0]"
   ]
  },
  {
   "cell_type": "code",
   "execution_count": 58,
   "metadata": {},
   "outputs": [
    {
     "data": {
      "text/plain": [
       "Mumbai Indians                 131\n",
       "Chennai Super Kings            121\n",
       "Kolkata Knight Riders          114\n",
       "Royal Challengers Bangalore    109\n",
       "Rajasthan Royals                96\n",
       "Kings XI Punjab                 88\n",
       "Sunrisers Hyderabad             75\n",
       "Delhi Daredevils                67\n",
       "Delhi Capitals                  36\n",
       "Deccan Chargers                 29\n",
       "Punjab Kings                    13\n",
       "Gujarat Lions                   13\n",
       "Gujarat Titans                  12\n",
       "Pune Warriors                   12\n",
       "Rising Pune Supergiant          10\n",
       "Lucknow Super Giants             9\n",
       "Kochi Tuskers Kerala             6\n",
       "Rising Pune Supergiants          5\n",
       "Name: WinningTeam, dtype: int64"
      ]
     },
     "execution_count": 58,
     "metadata": {},
     "output_type": "execute_result"
    }
   ],
   "source": [
    "# which team won how many matches?\n",
    "\n",
    "ipl['WinningTeam'].value_counts()"
   ]
  },
  {
   "cell_type": "code",
   "execution_count": null,
   "metadata": {},
   "outputs": [],
   "source": []
  }
 ],
 "metadata": {
  "kernelspec": {
   "display_name": "Python 3",
   "language": "python",
   "name": "python3"
  },
  "language_info": {
   "codemirror_mode": {
    "name": "ipython",
    "version": 3
   },
   "file_extension": ".py",
   "mimetype": "text/x-python",
   "name": "python",
   "nbconvert_exporter": "python",
   "pygments_lexer": "ipython3",
   "version": "3.8.5"
  }
 },
 "nbformat": 4,
 "nbformat_minor": 4
}
